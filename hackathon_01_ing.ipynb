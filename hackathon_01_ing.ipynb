{
 "cells": [
  {
   "cell_type": "markdown",
   "id": "muslim-plastic",
   "metadata": {},
   "source": [
    "# 제 1차 해커톤 : 캐글 축제"
   ]
  },
  {
   "cell_type": "markdown",
   "id": "rough-collapse",
   "metadata": {},
   "source": [
    "# Predict Future Sals - 미래의 매출 및 판매 예측"
   ]
  },
  {
   "cell_type": "markdown",
   "id": "crude-description",
   "metadata": {},
   "source": [
    "### [ 대회 소개 ]\n",
    "러시아 소프트 회사 중 하나인 1C 회사에서 제공하는 일일 판매 데이터를 가지고, 다음 달의 모든 제품과 매장에 대한 총 매출을 예측해야합니다."
   ]
  },
  {
   "cell_type": "markdown",
   "id": "extreme-touch",
   "metadata": {},
   "source": [
    "### [ 점수 평가 기준 ]\n",
    "대회의 평가 방식은 RMSE (Root Mean Squared Error) 입니다.\n",
    "> RMSE : 실제 정답과 예측한 값의 차이의 제곱을 평균한 값의 제곱근  \n",
    "\n",
    "$${\\sqrt{ {1 \\over N} \\sum{(y_t - y_{pr})}^2}}$$"
   ]
  },
  {
   "cell_type": "markdown",
   "id": "breathing-trick",
   "metadata": {},
   "source": [
    "### [ 데이터 설명 ]\n",
    "- sales_train.csv : 2013년 1월부터 2015년 10월까지의 판매 기록 데이터를 가지는 학습데이터\n",
    "- test.csv : 2015년 11월 매출 데이터를 가지는 평가데이터\n",
    "- sample_submission.csv : 캐글제출양식\n",
    "- items.csv : item(제품)에 대한 추가 정보\n",
    "- item_categories.csv : item(제품) 카테고리에 대한 추가 정보\n",
    "- shops.csv : shops(가게)에 대한 추가 정보\n",
    "\n",
    "> ID : test 데이터 내의 번호  \n",
    "shop_id : 가게 고유 식별자  \n",
    "item_id : 제품 고유 식별자  \n",
    "item_category_id : 제품의 카테고리 고유 식별자  \n",
    "item_cnt_day : 하루 판매된 제품수  \n",
    "item_price : 제품의 가격  \n",
    "date : dd/mm/yyyy 형식의 날짜  \n",
    "date_block_num : 편의상 사용되는 연속 월 번호 ex) 2013년 1월 : 0, 2013년 2월 : 1, ...  \n",
    "item_name : 제품 이름  \n",
    "shop_name : 가게 이름  \n",
    "item_category_name : 제품의 카테고리 이름  \n",
    "\n",
    "우리가 예측해야하는 컬럼은 item_cnt_month 입니다."
   ]
  },
  {
   "cell_type": "markdown",
   "id": "anticipated-possible",
   "metadata": {},
   "source": [
    "### [ 목차 ]\n",
    "### 1. EDA 및 전처리\n",
    "### 2. 모델링\n",
    "### 3. 하이퍼파라미터 튜닝\n",
    "### 4. 결과"
   ]
  },
  {
   "cell_type": "markdown",
   "id": "taken-official",
   "metadata": {},
   "source": [
    "## 1. EDA 및 전처리"
   ]
  },
  {
   "cell_type": "markdown",
   "id": "intensive-greece",
   "metadata": {},
   "source": [
    "### 1) 데이터 불러오기"
   ]
  },
  {
   "cell_type": "code",
   "execution_count": 1,
   "id": "dominican-simon",
   "metadata": {},
   "outputs": [
    {
     "name": "stdout",
     "output_type": "stream",
     "text": [
      "train data shape : (2935849, 6)\n",
      "test data shape : (214200, 3)\n",
      "items data shape : (22170, 3)\n",
      "item_categories data shape : (84, 2)\n",
      "shops data shape : (60, 2)\n"
     ]
    }
   ],
   "source": [
    "import os\n",
    "from os.path import join\n",
    "import pandas as pd \n",
    "import numpy as np\n",
    "\n",
    "data_dir = os.getenv('HOME')+'/aiffel/Hackathon_01/data'\n",
    "\n",
    "train_path = join(data_dir, 'sales_train.csv')\n",
    "test_path = join(data_dir, 'test.csv') \n",
    "items_path = join(data_dir, 'items.csv') \n",
    "item_categories_path = join(data_dir, 'item_categories.csv') \n",
    "shops_path = join(data_dir, 'shops.csv') \n",
    "\n",
    "train_data = pd.read_csv(train_path)\n",
    "test_data = pd.read_csv(test_path)\n",
    "items_data = pd.read_csv(items_path)\n",
    "item_categories_data = pd.read_csv(item_categories_path)\n",
    "shops_data = pd.read_csv(shops_path)\n",
    "\n",
    "train = pd.read_csv(train_path)\n",
    "test = pd.read_csv(test_path)\n",
    "items = pd.read_csv(items_path)\n",
    "item_categories = pd.read_csv(item_categories_path)\n",
    "shops = pd.read_csv(shops_path)\n",
    "\n",
    "print('train data shape : {}'.format(train.shape))\n",
    "print('test data shape : {}'.format(test.shape))\n",
    "print('items data shape : {}'.format(items.shape))\n",
    "print('item_categories data shape : {}'.format(item_categories.shape))\n",
    "print('shops data shape : {}'.format(shops.shape))\n"
   ]
  },
  {
   "cell_type": "markdown",
   "id": "literary-adrian",
   "metadata": {},
   "source": [
    "### 2) train 데이터와 test 데이터 살펴보기"
   ]
  },
  {
   "cell_type": "code",
   "execution_count": 2,
   "id": "union-ceiling",
   "metadata": {},
   "outputs": [
    {
     "name": "stdout",
     "output_type": "stream",
     "text": [
      "train data shape : (2935849, 6)\n",
      "<class 'pandas.core.frame.DataFrame'>\n",
      "RangeIndex: 2935849 entries, 0 to 2935848\n",
      "Data columns (total 6 columns):\n",
      " #   Column          Dtype  \n",
      "---  ------          -----  \n",
      " 0   date            object \n",
      " 1   date_block_num  int64  \n",
      " 2   shop_id         int64  \n",
      " 3   item_id         int64  \n",
      " 4   item_price      float64\n",
      " 5   item_cnt_day    float64\n",
      "dtypes: float64(2), int64(3), object(1)\n",
      "memory usage: 134.4+ MB\n"
     ]
    }
   ],
   "source": [
    "print('train data shape : {}'.format(train.shape))\n",
    "\n",
    "train.info()"
   ]
  },
  {
   "cell_type": "code",
   "execution_count": 3,
   "id": "italic-monday",
   "metadata": {},
   "outputs": [
    {
     "data": {
      "text/html": [
       "<div>\n",
       "<style scoped>\n",
       "    .dataframe tbody tr th:only-of-type {\n",
       "        vertical-align: middle;\n",
       "    }\n",
       "\n",
       "    .dataframe tbody tr th {\n",
       "        vertical-align: top;\n",
       "    }\n",
       "\n",
       "    .dataframe thead th {\n",
       "        text-align: right;\n",
       "    }\n",
       "</style>\n",
       "<table border=\"1\" class=\"dataframe\">\n",
       "  <thead>\n",
       "    <tr style=\"text-align: right;\">\n",
       "      <th></th>\n",
       "      <th>ID</th>\n",
       "      <th>shop_id</th>\n",
       "      <th>item_id</th>\n",
       "    </tr>\n",
       "  </thead>\n",
       "  <tbody>\n",
       "    <tr>\n",
       "      <th>0</th>\n",
       "      <td>0</td>\n",
       "      <td>5</td>\n",
       "      <td>5037</td>\n",
       "    </tr>\n",
       "    <tr>\n",
       "      <th>1</th>\n",
       "      <td>1</td>\n",
       "      <td>5</td>\n",
       "      <td>5320</td>\n",
       "    </tr>\n",
       "    <tr>\n",
       "      <th>2</th>\n",
       "      <td>2</td>\n",
       "      <td>5</td>\n",
       "      <td>5233</td>\n",
       "    </tr>\n",
       "    <tr>\n",
       "      <th>3</th>\n",
       "      <td>3</td>\n",
       "      <td>5</td>\n",
       "      <td>5232</td>\n",
       "    </tr>\n",
       "    <tr>\n",
       "      <th>4</th>\n",
       "      <td>4</td>\n",
       "      <td>5</td>\n",
       "      <td>5268</td>\n",
       "    </tr>\n",
       "  </tbody>\n",
       "</table>\n",
       "</div>"
      ],
      "text/plain": [
       "   ID  shop_id  item_id\n",
       "0   0        5     5037\n",
       "1   1        5     5320\n",
       "2   2        5     5233\n",
       "3   3        5     5232\n",
       "4   4        5     5268"
      ]
     },
     "execution_count": 3,
     "metadata": {},
     "output_type": "execute_result"
    }
   ],
   "source": [
    "test.head()"
   ]
  },
  {
   "cell_type": "code",
   "execution_count": 4,
   "id": "monthly-dining",
   "metadata": {},
   "outputs": [
    {
     "name": "stdout",
     "output_type": "stream",
     "text": [
      "test data shape : (214200, 3)\n",
      "<class 'pandas.core.frame.DataFrame'>\n",
      "RangeIndex: 214200 entries, 0 to 214199\n",
      "Data columns (total 3 columns):\n",
      " #   Column   Non-Null Count   Dtype\n",
      "---  ------   --------------   -----\n",
      " 0   ID       214200 non-null  int64\n",
      " 1   shop_id  214200 non-null  int64\n",
      " 2   item_id  214200 non-null  int64\n",
      "dtypes: int64(3)\n",
      "memory usage: 4.9 MB\n"
     ]
    }
   ],
   "source": [
    "print('test data shape : {}'.format(test.shape))\n",
    "\n",
    "test.info()"
   ]
  },
  {
   "cell_type": "code",
   "execution_count": 5,
   "id": "beginning-quarter",
   "metadata": {},
   "outputs": [
    {
     "data": {
      "text/html": [
       "<div>\n",
       "<style scoped>\n",
       "    .dataframe tbody tr th:only-of-type {\n",
       "        vertical-align: middle;\n",
       "    }\n",
       "\n",
       "    .dataframe tbody tr th {\n",
       "        vertical-align: top;\n",
       "    }\n",
       "\n",
       "    .dataframe thead th {\n",
       "        text-align: right;\n",
       "    }\n",
       "</style>\n",
       "<table border=\"1\" class=\"dataframe\">\n",
       "  <thead>\n",
       "    <tr style=\"text-align: right;\">\n",
       "      <th></th>\n",
       "      <th>ID</th>\n",
       "      <th>shop_id</th>\n",
       "      <th>item_id</th>\n",
       "    </tr>\n",
       "  </thead>\n",
       "  <tbody>\n",
       "    <tr>\n",
       "      <th>0</th>\n",
       "      <td>0</td>\n",
       "      <td>5</td>\n",
       "      <td>5037</td>\n",
       "    </tr>\n",
       "    <tr>\n",
       "      <th>1</th>\n",
       "      <td>1</td>\n",
       "      <td>5</td>\n",
       "      <td>5320</td>\n",
       "    </tr>\n",
       "    <tr>\n",
       "      <th>2</th>\n",
       "      <td>2</td>\n",
       "      <td>5</td>\n",
       "      <td>5233</td>\n",
       "    </tr>\n",
       "    <tr>\n",
       "      <th>3</th>\n",
       "      <td>3</td>\n",
       "      <td>5</td>\n",
       "      <td>5232</td>\n",
       "    </tr>\n",
       "    <tr>\n",
       "      <th>4</th>\n",
       "      <td>4</td>\n",
       "      <td>5</td>\n",
       "      <td>5268</td>\n",
       "    </tr>\n",
       "  </tbody>\n",
       "</table>\n",
       "</div>"
      ],
      "text/plain": [
       "   ID  shop_id  item_id\n",
       "0   0        5     5037\n",
       "1   1        5     5320\n",
       "2   2        5     5233\n",
       "3   3        5     5232\n",
       "4   4        5     5268"
      ]
     },
     "execution_count": 5,
     "metadata": {},
     "output_type": "execute_result"
    }
   ],
   "source": [
    "test.head()"
   ]
  },
  {
   "cell_type": "markdown",
   "id": "herbal-burden",
   "metadata": {},
   "source": [
    "### 3) item_price 컬럼 삭제하기"
   ]
  },
  {
   "cell_type": "code",
   "execution_count": 6,
   "id": "suspended-distribution",
   "metadata": {},
   "outputs": [
    {
     "name": "stdout",
     "output_type": "stream",
     "text": [
      "제거 전의 train data shape : (2935849, 6)\n",
      "제거 후의 train data shape : (2935849, 5)\n"
     ]
    },
    {
     "data": {
      "text/html": [
       "<div>\n",
       "<style scoped>\n",
       "    .dataframe tbody tr th:only-of-type {\n",
       "        vertical-align: middle;\n",
       "    }\n",
       "\n",
       "    .dataframe tbody tr th {\n",
       "        vertical-align: top;\n",
       "    }\n",
       "\n",
       "    .dataframe thead th {\n",
       "        text-align: right;\n",
       "    }\n",
       "</style>\n",
       "<table border=\"1\" class=\"dataframe\">\n",
       "  <thead>\n",
       "    <tr style=\"text-align: right;\">\n",
       "      <th></th>\n",
       "      <th>date</th>\n",
       "      <th>date_block_num</th>\n",
       "      <th>shop_id</th>\n",
       "      <th>item_id</th>\n",
       "      <th>item_cnt_day</th>\n",
       "    </tr>\n",
       "  </thead>\n",
       "  <tbody>\n",
       "    <tr>\n",
       "      <th>0</th>\n",
       "      <td>02.01.2013</td>\n",
       "      <td>0</td>\n",
       "      <td>59</td>\n",
       "      <td>22154</td>\n",
       "      <td>1.0</td>\n",
       "    </tr>\n",
       "    <tr>\n",
       "      <th>1</th>\n",
       "      <td>03.01.2013</td>\n",
       "      <td>0</td>\n",
       "      <td>25</td>\n",
       "      <td>2552</td>\n",
       "      <td>1.0</td>\n",
       "    </tr>\n",
       "    <tr>\n",
       "      <th>2</th>\n",
       "      <td>05.01.2013</td>\n",
       "      <td>0</td>\n",
       "      <td>25</td>\n",
       "      <td>2552</td>\n",
       "      <td>-1.0</td>\n",
       "    </tr>\n",
       "    <tr>\n",
       "      <th>3</th>\n",
       "      <td>06.01.2013</td>\n",
       "      <td>0</td>\n",
       "      <td>25</td>\n",
       "      <td>2554</td>\n",
       "      <td>1.0</td>\n",
       "    </tr>\n",
       "    <tr>\n",
       "      <th>4</th>\n",
       "      <td>15.01.2013</td>\n",
       "      <td>0</td>\n",
       "      <td>25</td>\n",
       "      <td>2555</td>\n",
       "      <td>1.0</td>\n",
       "    </tr>\n",
       "  </tbody>\n",
       "</table>\n",
       "</div>"
      ],
      "text/plain": [
       "         date  date_block_num  shop_id  item_id  item_cnt_day\n",
       "0  02.01.2013               0       59    22154           1.0\n",
       "1  03.01.2013               0       25     2552           1.0\n",
       "2  05.01.2013               0       25     2552          -1.0\n",
       "3  06.01.2013               0       25     2554           1.0\n",
       "4  15.01.2013               0       25     2555           1.0"
      ]
     },
     "execution_count": 6,
     "metadata": {},
     "output_type": "execute_result"
    }
   ],
   "source": [
    "print('제거 전의 train data shape : {}'.format(train.shape))\n",
    "\n",
    "train.drop('item_price', axis=1, inplace=True)\n",
    "\n",
    "print('제거 후의 train data shape : {}'.format(train.shape))\n",
    "\n",
    "train.head()"
   ]
  },
  {
   "cell_type": "markdown",
   "id": "logical-sally",
   "metadata": {},
   "source": [
    "### 4) train 데이터에서 test 데이터에 없는 제품과 가게 없애기"
   ]
  },
  {
   "cell_type": "code",
   "execution_count": 7,
   "id": "infectious-louisiana",
   "metadata": {},
   "outputs": [
    {
     "name": "stdout",
     "output_type": "stream",
     "text": [
      "제거 전의 train data shape : (2935849, 5)\n",
      "제거 후의 train data shape : (1224439, 5)\n"
     ]
    },
    {
     "data": {
      "text/html": [
       "<div>\n",
       "<style scoped>\n",
       "    .dataframe tbody tr th:only-of-type {\n",
       "        vertical-align: middle;\n",
       "    }\n",
       "\n",
       "    .dataframe tbody tr th {\n",
       "        vertical-align: top;\n",
       "    }\n",
       "\n",
       "    .dataframe thead th {\n",
       "        text-align: right;\n",
       "    }\n",
       "</style>\n",
       "<table border=\"1\" class=\"dataframe\">\n",
       "  <thead>\n",
       "    <tr style=\"text-align: right;\">\n",
       "      <th></th>\n",
       "      <th>date</th>\n",
       "      <th>date_block_num</th>\n",
       "      <th>shop_id</th>\n",
       "      <th>item_id</th>\n",
       "      <th>item_cnt_day</th>\n",
       "    </tr>\n",
       "  </thead>\n",
       "  <tbody>\n",
       "    <tr>\n",
       "      <th>0</th>\n",
       "      <td>02.01.2013</td>\n",
       "      <td>0</td>\n",
       "      <td>59</td>\n",
       "      <td>22154</td>\n",
       "      <td>1.0</td>\n",
       "    </tr>\n",
       "    <tr>\n",
       "      <th>10</th>\n",
       "      <td>03.01.2013</td>\n",
       "      <td>0</td>\n",
       "      <td>25</td>\n",
       "      <td>2574</td>\n",
       "      <td>2.0</td>\n",
       "    </tr>\n",
       "    <tr>\n",
       "      <th>11</th>\n",
       "      <td>05.01.2013</td>\n",
       "      <td>0</td>\n",
       "      <td>25</td>\n",
       "      <td>2574</td>\n",
       "      <td>1.0</td>\n",
       "    </tr>\n",
       "    <tr>\n",
       "      <th>12</th>\n",
       "      <td>07.01.2013</td>\n",
       "      <td>0</td>\n",
       "      <td>25</td>\n",
       "      <td>2574</td>\n",
       "      <td>1.0</td>\n",
       "    </tr>\n",
       "    <tr>\n",
       "      <th>13</th>\n",
       "      <td>08.01.2013</td>\n",
       "      <td>0</td>\n",
       "      <td>25</td>\n",
       "      <td>2574</td>\n",
       "      <td>2.0</td>\n",
       "    </tr>\n",
       "  </tbody>\n",
       "</table>\n",
       "</div>"
      ],
      "text/plain": [
       "          date  date_block_num  shop_id  item_id  item_cnt_day\n",
       "0   02.01.2013               0       59    22154           1.0\n",
       "10  03.01.2013               0       25     2574           2.0\n",
       "11  05.01.2013               0       25     2574           1.0\n",
       "12  07.01.2013               0       25     2574           1.0\n",
       "13  08.01.2013               0       25     2574           2.0"
      ]
     },
     "execution_count": 7,
     "metadata": {},
     "output_type": "execute_result"
    }
   ],
   "source": [
    "print('제거 전의 train data shape : {}'.format(train.shape))\n",
    "\n",
    "test_shops = test.shop_id.unique()\n",
    "test_items = test.item_id.unique()\n",
    "\n",
    "train = train[train.shop_id.isin(test_shops)]\n",
    "train = train[train.item_id.isin(test_items)]\n",
    "\n",
    "print('제거 후의 train data shape : {}'.format(train.shape))\n",
    "\n",
    "train.head()"
   ]
  },
  {
   "cell_type": "markdown",
   "id": "alpine-cherry",
   "metadata": {},
   "source": [
    "### 5) date 컬럼은 삭제하고 month 컬럼과 year 컬럼 추가하기"
   ]
  },
  {
   "cell_type": "code",
   "execution_count": 8,
   "id": "exceptional-triangle",
   "metadata": {},
   "outputs": [
    {
     "name": "stdout",
     "output_type": "stream",
     "text": [
      "변경 전의 train data shape : (1224439, 5)\n",
      "변경 후의 train data shape : (1224439, 6)\n"
     ]
    },
    {
     "data": {
      "text/html": [
       "<div>\n",
       "<style scoped>\n",
       "    .dataframe tbody tr th:only-of-type {\n",
       "        vertical-align: middle;\n",
       "    }\n",
       "\n",
       "    .dataframe tbody tr th {\n",
       "        vertical-align: top;\n",
       "    }\n",
       "\n",
       "    .dataframe thead th {\n",
       "        text-align: right;\n",
       "    }\n",
       "</style>\n",
       "<table border=\"1\" class=\"dataframe\">\n",
       "  <thead>\n",
       "    <tr style=\"text-align: right;\">\n",
       "      <th></th>\n",
       "      <th>date_block_num</th>\n",
       "      <th>shop_id</th>\n",
       "      <th>item_id</th>\n",
       "      <th>item_cnt_day</th>\n",
       "      <th>year</th>\n",
       "      <th>month</th>\n",
       "    </tr>\n",
       "  </thead>\n",
       "  <tbody>\n",
       "    <tr>\n",
       "      <th>0</th>\n",
       "      <td>0</td>\n",
       "      <td>59</td>\n",
       "      <td>22154</td>\n",
       "      <td>1.0</td>\n",
       "      <td>2013</td>\n",
       "      <td>1</td>\n",
       "    </tr>\n",
       "    <tr>\n",
       "      <th>10</th>\n",
       "      <td>0</td>\n",
       "      <td>25</td>\n",
       "      <td>2574</td>\n",
       "      <td>2.0</td>\n",
       "      <td>2013</td>\n",
       "      <td>1</td>\n",
       "    </tr>\n",
       "    <tr>\n",
       "      <th>11</th>\n",
       "      <td>0</td>\n",
       "      <td>25</td>\n",
       "      <td>2574</td>\n",
       "      <td>1.0</td>\n",
       "      <td>2013</td>\n",
       "      <td>1</td>\n",
       "    </tr>\n",
       "    <tr>\n",
       "      <th>12</th>\n",
       "      <td>0</td>\n",
       "      <td>25</td>\n",
       "      <td>2574</td>\n",
       "      <td>1.0</td>\n",
       "      <td>2013</td>\n",
       "      <td>1</td>\n",
       "    </tr>\n",
       "    <tr>\n",
       "      <th>13</th>\n",
       "      <td>0</td>\n",
       "      <td>25</td>\n",
       "      <td>2574</td>\n",
       "      <td>2.0</td>\n",
       "      <td>2013</td>\n",
       "      <td>1</td>\n",
       "    </tr>\n",
       "  </tbody>\n",
       "</table>\n",
       "</div>"
      ],
      "text/plain": [
       "    date_block_num  shop_id  item_id  item_cnt_day  year  month\n",
       "0                0       59    22154           1.0  2013      1\n",
       "10               0       25     2574           2.0  2013      1\n",
       "11               0       25     2574           1.0  2013      1\n",
       "12               0       25     2574           1.0  2013      1\n",
       "13               0       25     2574           2.0  2013      1"
      ]
     },
     "execution_count": 8,
     "metadata": {},
     "output_type": "execute_result"
    }
   ],
   "source": [
    "print('변경 전의 train data shape : {}'.format(train.shape))\n",
    "\n",
    "year = train['date'].apply(lambda x : str(x[6:])).astype(int)\n",
    "month = train['date'].apply(lambda x : str(x[3:5])).astype(int)\n",
    "\n",
    "train = train.assign(year = year)\n",
    "train = train.assign(month = month)\n",
    "\n",
    "train.drop('date', axis=1, inplace=True)\n",
    "\n",
    "print('변경 후의 train data shape : {}'.format(train.shape))\n",
    "\n",
    "train.head()"
   ]
  },
  {
   "cell_type": "markdown",
   "id": "incredible-projector",
   "metadata": {},
   "source": [
    "### 6) shops.csv 를 통해 city 컬럼 추가하기"
   ]
  },
  {
   "cell_type": "code",
   "execution_count": 9,
   "id": "large-database",
   "metadata": {},
   "outputs": [
    {
     "data": {
      "text/html": [
       "<div>\n",
       "<style scoped>\n",
       "    .dataframe tbody tr th:only-of-type {\n",
       "        vertical-align: middle;\n",
       "    }\n",
       "\n",
       "    .dataframe tbody tr th {\n",
       "        vertical-align: top;\n",
       "    }\n",
       "\n",
       "    .dataframe thead th {\n",
       "        text-align: right;\n",
       "    }\n",
       "</style>\n",
       "<table border=\"1\" class=\"dataframe\">\n",
       "  <thead>\n",
       "    <tr style=\"text-align: right;\">\n",
       "      <th></th>\n",
       "      <th>shop_name</th>\n",
       "      <th>shop_id</th>\n",
       "    </tr>\n",
       "  </thead>\n",
       "  <tbody>\n",
       "    <tr>\n",
       "      <th>0</th>\n",
       "      <td>!Якутск Орджоникидзе, 56 фран</td>\n",
       "      <td>0</td>\n",
       "    </tr>\n",
       "    <tr>\n",
       "      <th>1</th>\n",
       "      <td>!Якутск ТЦ \"Центральный\" фран</td>\n",
       "      <td>1</td>\n",
       "    </tr>\n",
       "    <tr>\n",
       "      <th>2</th>\n",
       "      <td>Адыгея ТЦ \"Мега\"</td>\n",
       "      <td>2</td>\n",
       "    </tr>\n",
       "    <tr>\n",
       "      <th>3</th>\n",
       "      <td>Балашиха ТРК \"Октябрь-Киномир\"</td>\n",
       "      <td>3</td>\n",
       "    </tr>\n",
       "    <tr>\n",
       "      <th>4</th>\n",
       "      <td>Волжский ТЦ \"Волга Молл\"</td>\n",
       "      <td>4</td>\n",
       "    </tr>\n",
       "  </tbody>\n",
       "</table>\n",
       "</div>"
      ],
      "text/plain": [
       "                        shop_name  shop_id\n",
       "0   !Якутск Орджоникидзе, 56 фран        0\n",
       "1   !Якутск ТЦ \"Центральный\" фран        1\n",
       "2                Адыгея ТЦ \"Мега\"        2\n",
       "3  Балашиха ТРК \"Октябрь-Киномир\"        3\n",
       "4        Волжский ТЦ \"Волга Молл\"        4"
      ]
     },
     "execution_count": 9,
     "metadata": {},
     "output_type": "execute_result"
    }
   ],
   "source": [
    "shops.head()"
   ]
  },
  {
   "cell_type": "code",
   "execution_count": 10,
   "id": "blind-chassis",
   "metadata": {},
   "outputs": [
    {
     "data": {
      "text/html": [
       "<div>\n",
       "<style scoped>\n",
       "    .dataframe tbody tr th:only-of-type {\n",
       "        vertical-align: middle;\n",
       "    }\n",
       "\n",
       "    .dataframe tbody tr th {\n",
       "        vertical-align: top;\n",
       "    }\n",
       "\n",
       "    .dataframe thead th {\n",
       "        text-align: right;\n",
       "    }\n",
       "</style>\n",
       "<table border=\"1\" class=\"dataframe\">\n",
       "  <thead>\n",
       "    <tr style=\"text-align: right;\">\n",
       "      <th></th>\n",
       "      <th>shop_name</th>\n",
       "      <th>shop_id</th>\n",
       "      <th>city</th>\n",
       "      <th>city_id</th>\n",
       "    </tr>\n",
       "  </thead>\n",
       "  <tbody>\n",
       "    <tr>\n",
       "      <th>0</th>\n",
       "      <td>!Якутск Орджоникидзе, 56 фран</td>\n",
       "      <td>0</td>\n",
       "      <td>Якутск</td>\n",
       "      <td>29</td>\n",
       "    </tr>\n",
       "    <tr>\n",
       "      <th>1</th>\n",
       "      <td>!Якутск ТЦ \"Центральный\" фран</td>\n",
       "      <td>1</td>\n",
       "      <td>Якутск</td>\n",
       "      <td>29</td>\n",
       "    </tr>\n",
       "    <tr>\n",
       "      <th>2</th>\n",
       "      <td>Адыгея ТЦ \"Мега\"</td>\n",
       "      <td>2</td>\n",
       "      <td>Адыгея</td>\n",
       "      <td>0</td>\n",
       "    </tr>\n",
       "    <tr>\n",
       "      <th>3</th>\n",
       "      <td>Балашиха ТРК \"Октябрь-Киномир\"</td>\n",
       "      <td>3</td>\n",
       "      <td>Балашиха</td>\n",
       "      <td>1</td>\n",
       "    </tr>\n",
       "    <tr>\n",
       "      <th>4</th>\n",
       "      <td>Волжский ТЦ \"Волга Молл\"</td>\n",
       "      <td>4</td>\n",
       "      <td>Волжский</td>\n",
       "      <td>2</td>\n",
       "    </tr>\n",
       "  </tbody>\n",
       "</table>\n",
       "</div>"
      ],
      "text/plain": [
       "                        shop_name  shop_id      city  city_id\n",
       "0   !Якутск Орджоникидзе, 56 фран        0    Якутск       29\n",
       "1   !Якутск ТЦ \"Центральный\" фран        1    Якутск       29\n",
       "2                Адыгея ТЦ \"Мега\"        2    Адыгея        0\n",
       "3  Балашиха ТРК \"Октябрь-Киномир\"        3  Балашиха        1\n",
       "4        Волжский ТЦ \"Волга Молл\"        4  Волжский        2"
      ]
     },
     "execution_count": 10,
     "metadata": {},
     "output_type": "execute_result"
    }
   ],
   "source": [
    "city = shops[\"shop_name\"].apply(lambda x: str.replace(x, '!', '')).apply(lambda x: x.split(' ')[0])\n",
    "\n",
    "shops['city'] = city\n",
    "shops['city_id'] = pd.Categorical(city).codes\n",
    "\n",
    "shops.head()"
   ]
  },
  {
   "cell_type": "code",
   "execution_count": 11,
   "id": "comparative-notice",
   "metadata": {},
   "outputs": [
    {
     "name": "stdout",
     "output_type": "stream",
     "text": [
      "변경 전의 train data shape : (1224439, 6)\n",
      "변경 후의 train data shape : (1224439, 7)\n"
     ]
    },
    {
     "data": {
      "text/html": [
       "<div>\n",
       "<style scoped>\n",
       "    .dataframe tbody tr th:only-of-type {\n",
       "        vertical-align: middle;\n",
       "    }\n",
       "\n",
       "    .dataframe tbody tr th {\n",
       "        vertical-align: top;\n",
       "    }\n",
       "\n",
       "    .dataframe thead th {\n",
       "        text-align: right;\n",
       "    }\n",
       "</style>\n",
       "<table border=\"1\" class=\"dataframe\">\n",
       "  <thead>\n",
       "    <tr style=\"text-align: right;\">\n",
       "      <th></th>\n",
       "      <th>date_block_num</th>\n",
       "      <th>shop_id</th>\n",
       "      <th>item_id</th>\n",
       "      <th>item_cnt_day</th>\n",
       "      <th>year</th>\n",
       "      <th>month</th>\n",
       "      <th>city_id</th>\n",
       "    </tr>\n",
       "  </thead>\n",
       "  <tbody>\n",
       "    <tr>\n",
       "      <th>0</th>\n",
       "      <td>0</td>\n",
       "      <td>59</td>\n",
       "      <td>22154</td>\n",
       "      <td>1.0</td>\n",
       "      <td>2013</td>\n",
       "      <td>1</td>\n",
       "      <td>30</td>\n",
       "    </tr>\n",
       "    <tr>\n",
       "      <th>1</th>\n",
       "      <td>0</td>\n",
       "      <td>25</td>\n",
       "      <td>2574</td>\n",
       "      <td>2.0</td>\n",
       "      <td>2013</td>\n",
       "      <td>1</td>\n",
       "      <td>13</td>\n",
       "    </tr>\n",
       "    <tr>\n",
       "      <th>2</th>\n",
       "      <td>0</td>\n",
       "      <td>25</td>\n",
       "      <td>2574</td>\n",
       "      <td>1.0</td>\n",
       "      <td>2013</td>\n",
       "      <td>1</td>\n",
       "      <td>13</td>\n",
       "    </tr>\n",
       "    <tr>\n",
       "      <th>3</th>\n",
       "      <td>0</td>\n",
       "      <td>25</td>\n",
       "      <td>2574</td>\n",
       "      <td>1.0</td>\n",
       "      <td>2013</td>\n",
       "      <td>1</td>\n",
       "      <td>13</td>\n",
       "    </tr>\n",
       "    <tr>\n",
       "      <th>4</th>\n",
       "      <td>0</td>\n",
       "      <td>25</td>\n",
       "      <td>2574</td>\n",
       "      <td>2.0</td>\n",
       "      <td>2013</td>\n",
       "      <td>1</td>\n",
       "      <td>13</td>\n",
       "    </tr>\n",
       "  </tbody>\n",
       "</table>\n",
       "</div>"
      ],
      "text/plain": [
       "   date_block_num  shop_id  item_id  item_cnt_day  year  month  city_id\n",
       "0               0       59    22154           1.0  2013      1       30\n",
       "1               0       25     2574           2.0  2013      1       13\n",
       "2               0       25     2574           1.0  2013      1       13\n",
       "3               0       25     2574           1.0  2013      1       13\n",
       "4               0       25     2574           2.0  2013      1       13"
      ]
     },
     "execution_count": 11,
     "metadata": {},
     "output_type": "execute_result"
    }
   ],
   "source": [
    "print('변경 전의 train data shape : {}'.format(train.shape))\n",
    "\n",
    "train = pd.merge(train, shops.loc[:,['shop_id', 'city_id']], on=\"shop_id\", how=\"left\")\n",
    "\n",
    "print('변경 후의 train data shape : {}'.format(train.shape))\n",
    "\n",
    "train.head()"
   ]
  },
  {
   "cell_type": "markdown",
   "id": "quantitative-strip",
   "metadata": {},
   "source": [
    "### 7) items.csv 를 통해 item_category_id 컬럼 추가하기"
   ]
  },
  {
   "cell_type": "code",
   "execution_count": 12,
   "id": "traditional-popularity",
   "metadata": {},
   "outputs": [
    {
     "data": {
      "text/html": [
       "<div>\n",
       "<style scoped>\n",
       "    .dataframe tbody tr th:only-of-type {\n",
       "        vertical-align: middle;\n",
       "    }\n",
       "\n",
       "    .dataframe tbody tr th {\n",
       "        vertical-align: top;\n",
       "    }\n",
       "\n",
       "    .dataframe thead th {\n",
       "        text-align: right;\n",
       "    }\n",
       "</style>\n",
       "<table border=\"1\" class=\"dataframe\">\n",
       "  <thead>\n",
       "    <tr style=\"text-align: right;\">\n",
       "      <th></th>\n",
       "      <th>item_name</th>\n",
       "      <th>item_id</th>\n",
       "      <th>item_category_id</th>\n",
       "    </tr>\n",
       "  </thead>\n",
       "  <tbody>\n",
       "    <tr>\n",
       "      <th>0</th>\n",
       "      <td>! ВО ВЛАСТИ НАВАЖДЕНИЯ (ПЛАСТ.)         D</td>\n",
       "      <td>0</td>\n",
       "      <td>40</td>\n",
       "    </tr>\n",
       "    <tr>\n",
       "      <th>1</th>\n",
       "      <td>!ABBYY FineReader 12 Professional Edition Full...</td>\n",
       "      <td>1</td>\n",
       "      <td>76</td>\n",
       "    </tr>\n",
       "    <tr>\n",
       "      <th>2</th>\n",
       "      <td>***В ЛУЧАХ СЛАВЫ   (UNV)                    D</td>\n",
       "      <td>2</td>\n",
       "      <td>40</td>\n",
       "    </tr>\n",
       "    <tr>\n",
       "      <th>3</th>\n",
       "      <td>***ГОЛУБАЯ ВОЛНА  (Univ)                      D</td>\n",
       "      <td>3</td>\n",
       "      <td>40</td>\n",
       "    </tr>\n",
       "    <tr>\n",
       "      <th>4</th>\n",
       "      <td>***КОРОБКА (СТЕКЛО)                       D</td>\n",
       "      <td>4</td>\n",
       "      <td>40</td>\n",
       "    </tr>\n",
       "  </tbody>\n",
       "</table>\n",
       "</div>"
      ],
      "text/plain": [
       "                                           item_name  item_id  \\\n",
       "0          ! ВО ВЛАСТИ НАВАЖДЕНИЯ (ПЛАСТ.)         D        0   \n",
       "1  !ABBYY FineReader 12 Professional Edition Full...        1   \n",
       "2      ***В ЛУЧАХ СЛАВЫ   (UNV)                    D        2   \n",
       "3    ***ГОЛУБАЯ ВОЛНА  (Univ)                      D        3   \n",
       "4        ***КОРОБКА (СТЕКЛО)                       D        4   \n",
       "\n",
       "   item_category_id  \n",
       "0                40  \n",
       "1                76  \n",
       "2                40  \n",
       "3                40  \n",
       "4                40  "
      ]
     },
     "execution_count": 12,
     "metadata": {},
     "output_type": "execute_result"
    }
   ],
   "source": [
    "items.head()"
   ]
  },
  {
   "cell_type": "code",
   "execution_count": 13,
   "id": "connected-exhaust",
   "metadata": {},
   "outputs": [
    {
     "name": "stdout",
     "output_type": "stream",
     "text": [
      "변경 전의 train data shape : (1224439, 7)\n",
      "변경 후의 train data shape : (1224439, 8)\n"
     ]
    },
    {
     "data": {
      "text/html": [
       "<div>\n",
       "<style scoped>\n",
       "    .dataframe tbody tr th:only-of-type {\n",
       "        vertical-align: middle;\n",
       "    }\n",
       "\n",
       "    .dataframe tbody tr th {\n",
       "        vertical-align: top;\n",
       "    }\n",
       "\n",
       "    .dataframe thead th {\n",
       "        text-align: right;\n",
       "    }\n",
       "</style>\n",
       "<table border=\"1\" class=\"dataframe\">\n",
       "  <thead>\n",
       "    <tr style=\"text-align: right;\">\n",
       "      <th></th>\n",
       "      <th>date_block_num</th>\n",
       "      <th>shop_id</th>\n",
       "      <th>item_id</th>\n",
       "      <th>item_cnt_day</th>\n",
       "      <th>year</th>\n",
       "      <th>month</th>\n",
       "      <th>city_id</th>\n",
       "      <th>item_category_id</th>\n",
       "    </tr>\n",
       "  </thead>\n",
       "  <tbody>\n",
       "    <tr>\n",
       "      <th>0</th>\n",
       "      <td>0</td>\n",
       "      <td>59</td>\n",
       "      <td>22154</td>\n",
       "      <td>1.0</td>\n",
       "      <td>2013</td>\n",
       "      <td>1</td>\n",
       "      <td>30</td>\n",
       "      <td>37</td>\n",
       "    </tr>\n",
       "    <tr>\n",
       "      <th>1</th>\n",
       "      <td>0</td>\n",
       "      <td>25</td>\n",
       "      <td>2574</td>\n",
       "      <td>2.0</td>\n",
       "      <td>2013</td>\n",
       "      <td>1</td>\n",
       "      <td>13</td>\n",
       "      <td>55</td>\n",
       "    </tr>\n",
       "    <tr>\n",
       "      <th>2</th>\n",
       "      <td>0</td>\n",
       "      <td>25</td>\n",
       "      <td>2574</td>\n",
       "      <td>1.0</td>\n",
       "      <td>2013</td>\n",
       "      <td>1</td>\n",
       "      <td>13</td>\n",
       "      <td>55</td>\n",
       "    </tr>\n",
       "    <tr>\n",
       "      <th>3</th>\n",
       "      <td>0</td>\n",
       "      <td>25</td>\n",
       "      <td>2574</td>\n",
       "      <td>1.0</td>\n",
       "      <td>2013</td>\n",
       "      <td>1</td>\n",
       "      <td>13</td>\n",
       "      <td>55</td>\n",
       "    </tr>\n",
       "    <tr>\n",
       "      <th>4</th>\n",
       "      <td>0</td>\n",
       "      <td>25</td>\n",
       "      <td>2574</td>\n",
       "      <td>2.0</td>\n",
       "      <td>2013</td>\n",
       "      <td>1</td>\n",
       "      <td>13</td>\n",
       "      <td>55</td>\n",
       "    </tr>\n",
       "  </tbody>\n",
       "</table>\n",
       "</div>"
      ],
      "text/plain": [
       "   date_block_num  shop_id  item_id  item_cnt_day  year  month  city_id  \\\n",
       "0               0       59    22154           1.0  2013      1       30   \n",
       "1               0       25     2574           2.0  2013      1       13   \n",
       "2               0       25     2574           1.0  2013      1       13   \n",
       "3               0       25     2574           1.0  2013      1       13   \n",
       "4               0       25     2574           2.0  2013      1       13   \n",
       "\n",
       "   item_category_id  \n",
       "0                37  \n",
       "1                55  \n",
       "2                55  \n",
       "3                55  \n",
       "4                55  "
      ]
     },
     "execution_count": 13,
     "metadata": {},
     "output_type": "execute_result"
    }
   ],
   "source": [
    "print('변경 전의 train data shape : {}'.format(train.shape))\n",
    "\n",
    "train = pd.merge(train, items.loc[:, ['item_id', 'item_category_id']], on=\"item_id\", how=\"left\")\n",
    "\n",
    "print('변경 후의 train data shape : {}'.format(train.shape))\n",
    "\n",
    "train.head()"
   ]
  },
  {
   "cell_type": "markdown",
   "id": "executive-switzerland",
   "metadata": {},
   "source": [
    "### 8) item_categories.csv 를 통해 item_category_id2 컬럼 추가하기"
   ]
  },
  {
   "cell_type": "code",
   "execution_count": 14,
   "id": "surgical-newark",
   "metadata": {},
   "outputs": [
    {
     "data": {
      "text/html": [
       "<div>\n",
       "<style scoped>\n",
       "    .dataframe tbody tr th:only-of-type {\n",
       "        vertical-align: middle;\n",
       "    }\n",
       "\n",
       "    .dataframe tbody tr th {\n",
       "        vertical-align: top;\n",
       "    }\n",
       "\n",
       "    .dataframe thead th {\n",
       "        text-align: right;\n",
       "    }\n",
       "</style>\n",
       "<table border=\"1\" class=\"dataframe\">\n",
       "  <thead>\n",
       "    <tr style=\"text-align: right;\">\n",
       "      <th></th>\n",
       "      <th>item_category_name</th>\n",
       "      <th>item_category_id</th>\n",
       "    </tr>\n",
       "  </thead>\n",
       "  <tbody>\n",
       "    <tr>\n",
       "      <th>0</th>\n",
       "      <td>PC - Гарнитуры/Наушники</td>\n",
       "      <td>0</td>\n",
       "    </tr>\n",
       "    <tr>\n",
       "      <th>1</th>\n",
       "      <td>Аксессуары - PS2</td>\n",
       "      <td>1</td>\n",
       "    </tr>\n",
       "    <tr>\n",
       "      <th>2</th>\n",
       "      <td>Аксессуары - PS3</td>\n",
       "      <td>2</td>\n",
       "    </tr>\n",
       "    <tr>\n",
       "      <th>3</th>\n",
       "      <td>Аксессуары - PS4</td>\n",
       "      <td>3</td>\n",
       "    </tr>\n",
       "    <tr>\n",
       "      <th>4</th>\n",
       "      <td>Аксессуары - PSP</td>\n",
       "      <td>4</td>\n",
       "    </tr>\n",
       "  </tbody>\n",
       "</table>\n",
       "</div>"
      ],
      "text/plain": [
       "        item_category_name  item_category_id\n",
       "0  PC - Гарнитуры/Наушники                 0\n",
       "1         Аксессуары - PS2                 1\n",
       "2         Аксессуары - PS3                 2\n",
       "3         Аксессуары - PS4                 3\n",
       "4         Аксессуары - PSP                 4"
      ]
     },
     "execution_count": 14,
     "metadata": {},
     "output_type": "execute_result"
    }
   ],
   "source": [
    "item_categories.head()"
   ]
  },
  {
   "cell_type": "code",
   "execution_count": 15,
   "id": "prepared-shepherd",
   "metadata": {},
   "outputs": [
    {
     "data": {
      "text/html": [
       "<div>\n",
       "<style scoped>\n",
       "    .dataframe tbody tr th:only-of-type {\n",
       "        vertical-align: middle;\n",
       "    }\n",
       "\n",
       "    .dataframe tbody tr th {\n",
       "        vertical-align: top;\n",
       "    }\n",
       "\n",
       "    .dataframe thead th {\n",
       "        text-align: right;\n",
       "    }\n",
       "</style>\n",
       "<table border=\"1\" class=\"dataframe\">\n",
       "  <thead>\n",
       "    <tr style=\"text-align: right;\">\n",
       "      <th></th>\n",
       "      <th>item_category_name</th>\n",
       "      <th>item_category_id</th>\n",
       "      <th>item_category_name2</th>\n",
       "      <th>item_category_id2</th>\n",
       "    </tr>\n",
       "  </thead>\n",
       "  <tbody>\n",
       "    <tr>\n",
       "      <th>0</th>\n",
       "      <td>PC - Гарнитуры/Наушники</td>\n",
       "      <td>0</td>\n",
       "      <td>PC</td>\n",
       "      <td>0</td>\n",
       "    </tr>\n",
       "    <tr>\n",
       "      <th>1</th>\n",
       "      <td>Аксессуары - PS2</td>\n",
       "      <td>1</td>\n",
       "      <td>Аксессуары</td>\n",
       "      <td>1</td>\n",
       "    </tr>\n",
       "    <tr>\n",
       "      <th>2</th>\n",
       "      <td>Аксессуары - PS3</td>\n",
       "      <td>2</td>\n",
       "      <td>Аксессуары</td>\n",
       "      <td>1</td>\n",
       "    </tr>\n",
       "    <tr>\n",
       "      <th>3</th>\n",
       "      <td>Аксессуары - PS4</td>\n",
       "      <td>3</td>\n",
       "      <td>Аксессуары</td>\n",
       "      <td>1</td>\n",
       "    </tr>\n",
       "    <tr>\n",
       "      <th>4</th>\n",
       "      <td>Аксессуары - PSP</td>\n",
       "      <td>4</td>\n",
       "      <td>Аксессуары</td>\n",
       "      <td>1</td>\n",
       "    </tr>\n",
       "  </tbody>\n",
       "</table>\n",
       "</div>"
      ],
      "text/plain": [
       "        item_category_name  item_category_id item_category_name2  \\\n",
       "0  PC - Гарнитуры/Наушники                 0                  PC   \n",
       "1         Аксессуары - PS2                 1          Аксессуары   \n",
       "2         Аксессуары - PS3                 2          Аксессуары   \n",
       "3         Аксессуары - PS4                 3          Аксессуары   \n",
       "4         Аксессуары - PSP                 4          Аксессуары   \n",
       "\n",
       "   item_category_id2  \n",
       "0                  0  \n",
       "1                  1  \n",
       "2                  1  \n",
       "3                  1  \n",
       "4                  1  "
      ]
     },
     "execution_count": 15,
     "metadata": {},
     "output_type": "execute_result"
    }
   ],
   "source": [
    "item_category_id2 = item_categories['item_category_name'].apply(lambda x: str(x).split(' ')[0])\n",
    "\n",
    "item_categories[\"item_category_name2\"] = item_category_id2\n",
    "item_categories[\"item_category_id2\"] = pd.Categorical(item_category_id2).codes\n",
    "\n",
    "item_categories.head()"
   ]
  },
  {
   "cell_type": "code",
   "execution_count": 16,
   "id": "superior-sudan",
   "metadata": {},
   "outputs": [
    {
     "name": "stdout",
     "output_type": "stream",
     "text": [
      "변경 전의 train data shape : (1224439, 8)\n",
      "변경 후의 train data shape : (1224439, 9)\n"
     ]
    },
    {
     "data": {
      "text/html": [
       "<div>\n",
       "<style scoped>\n",
       "    .dataframe tbody tr th:only-of-type {\n",
       "        vertical-align: middle;\n",
       "    }\n",
       "\n",
       "    .dataframe tbody tr th {\n",
       "        vertical-align: top;\n",
       "    }\n",
       "\n",
       "    .dataframe thead th {\n",
       "        text-align: right;\n",
       "    }\n",
       "</style>\n",
       "<table border=\"1\" class=\"dataframe\">\n",
       "  <thead>\n",
       "    <tr style=\"text-align: right;\">\n",
       "      <th></th>\n",
       "      <th>date_block_num</th>\n",
       "      <th>shop_id</th>\n",
       "      <th>item_id</th>\n",
       "      <th>item_cnt_day</th>\n",
       "      <th>year</th>\n",
       "      <th>month</th>\n",
       "      <th>city_id</th>\n",
       "      <th>item_category_id</th>\n",
       "      <th>item_category_id2</th>\n",
       "    </tr>\n",
       "  </thead>\n",
       "  <tbody>\n",
       "    <tr>\n",
       "      <th>0</th>\n",
       "      <td>0</td>\n",
       "      <td>59</td>\n",
       "      <td>22154</td>\n",
       "      <td>1.0</td>\n",
       "      <td>2013</td>\n",
       "      <td>1</td>\n",
       "      <td>30</td>\n",
       "      <td>37</td>\n",
       "      <td>7</td>\n",
       "    </tr>\n",
       "    <tr>\n",
       "      <th>1</th>\n",
       "      <td>0</td>\n",
       "      <td>25</td>\n",
       "      <td>2574</td>\n",
       "      <td>2.0</td>\n",
       "      <td>2013</td>\n",
       "      <td>1</td>\n",
       "      <td>13</td>\n",
       "      <td>55</td>\n",
       "      <td>9</td>\n",
       "    </tr>\n",
       "    <tr>\n",
       "      <th>2</th>\n",
       "      <td>0</td>\n",
       "      <td>25</td>\n",
       "      <td>2574</td>\n",
       "      <td>1.0</td>\n",
       "      <td>2013</td>\n",
       "      <td>1</td>\n",
       "      <td>13</td>\n",
       "      <td>55</td>\n",
       "      <td>9</td>\n",
       "    </tr>\n",
       "    <tr>\n",
       "      <th>3</th>\n",
       "      <td>0</td>\n",
       "      <td>25</td>\n",
       "      <td>2574</td>\n",
       "      <td>1.0</td>\n",
       "      <td>2013</td>\n",
       "      <td>1</td>\n",
       "      <td>13</td>\n",
       "      <td>55</td>\n",
       "      <td>9</td>\n",
       "    </tr>\n",
       "    <tr>\n",
       "      <th>4</th>\n",
       "      <td>0</td>\n",
       "      <td>25</td>\n",
       "      <td>2574</td>\n",
       "      <td>2.0</td>\n",
       "      <td>2013</td>\n",
       "      <td>1</td>\n",
       "      <td>13</td>\n",
       "      <td>55</td>\n",
       "      <td>9</td>\n",
       "    </tr>\n",
       "  </tbody>\n",
       "</table>\n",
       "</div>"
      ],
      "text/plain": [
       "   date_block_num  shop_id  item_id  item_cnt_day  year  month  city_id  \\\n",
       "0               0       59    22154           1.0  2013      1       30   \n",
       "1               0       25     2574           2.0  2013      1       13   \n",
       "2               0       25     2574           1.0  2013      1       13   \n",
       "3               0       25     2574           1.0  2013      1       13   \n",
       "4               0       25     2574           2.0  2013      1       13   \n",
       "\n",
       "   item_category_id  item_category_id2  \n",
       "0                37                  7  \n",
       "1                55                  9  \n",
       "2                55                  9  \n",
       "3                55                  9  \n",
       "4                55                  9  "
      ]
     },
     "execution_count": 16,
     "metadata": {},
     "output_type": "execute_result"
    }
   ],
   "source": [
    "print('변경 전의 train data shape : {}'.format(train.shape))\n",
    "\n",
    "train = pd.merge(train, item_categories.loc[:, ['item_category_id', 'item_category_id2']], on=\"item_category_id\", how=\"left\")\n",
    "\n",
    "print('변경 후의 train data shape : {}'.format(train.shape))\n",
    "\n",
    "train.head()"
   ]
  },
  {
   "cell_type": "markdown",
   "id": "primary-shoot",
   "metadata": {},
   "source": [
    "### 9) groupby 를 활용하여 item_cnt_month 컬럼 추가하기"
   ]
  },
  {
   "cell_type": "code",
   "execution_count": 17,
   "id": "tropical-donor",
   "metadata": {},
   "outputs": [
    {
     "data": {
      "text/html": [
       "<div>\n",
       "<style scoped>\n",
       "    .dataframe tbody tr th:only-of-type {\n",
       "        vertical-align: middle;\n",
       "    }\n",
       "\n",
       "    .dataframe tbody tr th {\n",
       "        vertical-align: top;\n",
       "    }\n",
       "\n",
       "    .dataframe thead tr th {\n",
       "        text-align: left;\n",
       "    }\n",
       "\n",
       "    .dataframe thead tr:last-of-type th {\n",
       "        text-align: right;\n",
       "    }\n",
       "</style>\n",
       "<table border=\"1\" class=\"dataframe\">\n",
       "  <thead>\n",
       "    <tr>\n",
       "      <th></th>\n",
       "      <th></th>\n",
       "      <th></th>\n",
       "      <th>item_cnt_day</th>\n",
       "    </tr>\n",
       "    <tr>\n",
       "      <th></th>\n",
       "      <th></th>\n",
       "      <th></th>\n",
       "      <th>sum</th>\n",
       "    </tr>\n",
       "    <tr>\n",
       "      <th>date_block_num</th>\n",
       "      <th>shop_id</th>\n",
       "      <th>item_id</th>\n",
       "      <th></th>\n",
       "    </tr>\n",
       "  </thead>\n",
       "  <tbody>\n",
       "    <tr>\n",
       "      <th rowspan=\"5\" valign=\"top\">0</th>\n",
       "      <th rowspan=\"5\" valign=\"top\">2</th>\n",
       "      <th>33</th>\n",
       "      <td>1.0</td>\n",
       "    </tr>\n",
       "    <tr>\n",
       "      <th>482</th>\n",
       "      <td>1.0</td>\n",
       "    </tr>\n",
       "    <tr>\n",
       "      <th>491</th>\n",
       "      <td>1.0</td>\n",
       "    </tr>\n",
       "    <tr>\n",
       "      <th>839</th>\n",
       "      <td>1.0</td>\n",
       "    </tr>\n",
       "    <tr>\n",
       "      <th>1007</th>\n",
       "      <td>3.0</td>\n",
       "    </tr>\n",
       "  </tbody>\n",
       "</table>\n",
       "</div>"
      ],
      "text/plain": [
       "                               item_cnt_day\n",
       "                                        sum\n",
       "date_block_num shop_id item_id             \n",
       "0              2       33               1.0\n",
       "                       482              1.0\n",
       "                       491              1.0\n",
       "                       839              1.0\n",
       "                       1007             3.0"
      ]
     },
     "execution_count": 17,
     "metadata": {},
     "output_type": "execute_result"
    }
   ],
   "source": [
    "group = train.groupby(['date_block_num', 'shop_id', 'item_id']).agg({'item_cnt_day': ['sum']})\n",
    "\n",
    "group.head()"
   ]
  },
  {
   "cell_type": "code",
   "execution_count": 18,
   "id": "overall-elephant",
   "metadata": {},
   "outputs": [
    {
     "data": {
      "text/html": [
       "<div>\n",
       "<style scoped>\n",
       "    .dataframe tbody tr th:only-of-type {\n",
       "        vertical-align: middle;\n",
       "    }\n",
       "\n",
       "    .dataframe tbody tr th {\n",
       "        vertical-align: top;\n",
       "    }\n",
       "\n",
       "    .dataframe thead th {\n",
       "        text-align: right;\n",
       "    }\n",
       "</style>\n",
       "<table border=\"1\" class=\"dataframe\">\n",
       "  <thead>\n",
       "    <tr style=\"text-align: right;\">\n",
       "      <th></th>\n",
       "      <th></th>\n",
       "      <th></th>\n",
       "      <th>item_cnt_month</th>\n",
       "    </tr>\n",
       "    <tr>\n",
       "      <th>date_block_num</th>\n",
       "      <th>shop_id</th>\n",
       "      <th>item_id</th>\n",
       "      <th></th>\n",
       "    </tr>\n",
       "  </thead>\n",
       "  <tbody>\n",
       "    <tr>\n",
       "      <th rowspan=\"5\" valign=\"top\">0</th>\n",
       "      <th rowspan=\"5\" valign=\"top\">2</th>\n",
       "      <th>33</th>\n",
       "      <td>1.0</td>\n",
       "    </tr>\n",
       "    <tr>\n",
       "      <th>482</th>\n",
       "      <td>1.0</td>\n",
       "    </tr>\n",
       "    <tr>\n",
       "      <th>491</th>\n",
       "      <td>1.0</td>\n",
       "    </tr>\n",
       "    <tr>\n",
       "      <th>839</th>\n",
       "      <td>1.0</td>\n",
       "    </tr>\n",
       "    <tr>\n",
       "      <th>1007</th>\n",
       "      <td>3.0</td>\n",
       "    </tr>\n",
       "  </tbody>\n",
       "</table>\n",
       "</div>"
      ],
      "text/plain": [
       "                                item_cnt_month\n",
       "date_block_num shop_id item_id                \n",
       "0              2       33                  1.0\n",
       "                       482                 1.0\n",
       "                       491                 1.0\n",
       "                       839                 1.0\n",
       "                       1007                3.0"
      ]
     },
     "execution_count": 18,
     "metadata": {},
     "output_type": "execute_result"
    }
   ],
   "source": [
    "group.columns = ['item_cnt_month']\n",
    "\n",
    "group.head()"
   ]
  },
  {
   "cell_type": "code",
   "execution_count": 19,
   "id": "answering-producer",
   "metadata": {},
   "outputs": [
    {
     "data": {
      "text/html": [
       "<div>\n",
       "<style scoped>\n",
       "    .dataframe tbody tr th:only-of-type {\n",
       "        vertical-align: middle;\n",
       "    }\n",
       "\n",
       "    .dataframe tbody tr th {\n",
       "        vertical-align: top;\n",
       "    }\n",
       "\n",
       "    .dataframe thead th {\n",
       "        text-align: right;\n",
       "    }\n",
       "</style>\n",
       "<table border=\"1\" class=\"dataframe\">\n",
       "  <thead>\n",
       "    <tr style=\"text-align: right;\">\n",
       "      <th></th>\n",
       "      <th>date_block_num</th>\n",
       "      <th>shop_id</th>\n",
       "      <th>item_id</th>\n",
       "      <th>item_cnt_month</th>\n",
       "    </tr>\n",
       "  </thead>\n",
       "  <tbody>\n",
       "    <tr>\n",
       "      <th>0</th>\n",
       "      <td>0</td>\n",
       "      <td>2</td>\n",
       "      <td>33</td>\n",
       "      <td>1.0</td>\n",
       "    </tr>\n",
       "    <tr>\n",
       "      <th>1</th>\n",
       "      <td>0</td>\n",
       "      <td>2</td>\n",
       "      <td>482</td>\n",
       "      <td>1.0</td>\n",
       "    </tr>\n",
       "    <tr>\n",
       "      <th>2</th>\n",
       "      <td>0</td>\n",
       "      <td>2</td>\n",
       "      <td>491</td>\n",
       "      <td>1.0</td>\n",
       "    </tr>\n",
       "    <tr>\n",
       "      <th>3</th>\n",
       "      <td>0</td>\n",
       "      <td>2</td>\n",
       "      <td>839</td>\n",
       "      <td>1.0</td>\n",
       "    </tr>\n",
       "    <tr>\n",
       "      <th>4</th>\n",
       "      <td>0</td>\n",
       "      <td>2</td>\n",
       "      <td>1007</td>\n",
       "      <td>3.0</td>\n",
       "    </tr>\n",
       "  </tbody>\n",
       "</table>\n",
       "</div>"
      ],
      "text/plain": [
       "   date_block_num  shop_id  item_id  item_cnt_month\n",
       "0               0        2       33             1.0\n",
       "1               0        2      482             1.0\n",
       "2               0        2      491             1.0\n",
       "3               0        2      839             1.0\n",
       "4               0        2     1007             3.0"
      ]
     },
     "execution_count": 19,
     "metadata": {},
     "output_type": "execute_result"
    }
   ],
   "source": [
    "group.reset_index(inplace=True)\n",
    "\n",
    "group.head()"
   ]
  },
  {
   "cell_type": "code",
   "execution_count": 20,
   "id": "dangerous-transmission",
   "metadata": {},
   "outputs": [
    {
     "name": "stdout",
     "output_type": "stream",
     "text": [
      "변경 전의 train data shape : (1224439, 9)\n",
      "변경 후의 train data shape : (1224439, 9)\n"
     ]
    },
    {
     "data": {
      "text/html": [
       "<div>\n",
       "<style scoped>\n",
       "    .dataframe tbody tr th:only-of-type {\n",
       "        vertical-align: middle;\n",
       "    }\n",
       "\n",
       "    .dataframe tbody tr th {\n",
       "        vertical-align: top;\n",
       "    }\n",
       "\n",
       "    .dataframe thead th {\n",
       "        text-align: right;\n",
       "    }\n",
       "</style>\n",
       "<table border=\"1\" class=\"dataframe\">\n",
       "  <thead>\n",
       "    <tr style=\"text-align: right;\">\n",
       "      <th></th>\n",
       "      <th>date_block_num</th>\n",
       "      <th>shop_id</th>\n",
       "      <th>item_id</th>\n",
       "      <th>year</th>\n",
       "      <th>month</th>\n",
       "      <th>city_id</th>\n",
       "      <th>item_category_id</th>\n",
       "      <th>item_category_id2</th>\n",
       "      <th>item_cnt_month</th>\n",
       "    </tr>\n",
       "  </thead>\n",
       "  <tbody>\n",
       "    <tr>\n",
       "      <th>0</th>\n",
       "      <td>0</td>\n",
       "      <td>59</td>\n",
       "      <td>22154</td>\n",
       "      <td>2013</td>\n",
       "      <td>1</td>\n",
       "      <td>30</td>\n",
       "      <td>37</td>\n",
       "      <td>7</td>\n",
       "      <td>1.0</td>\n",
       "    </tr>\n",
       "    <tr>\n",
       "      <th>1</th>\n",
       "      <td>0</td>\n",
       "      <td>25</td>\n",
       "      <td>2574</td>\n",
       "      <td>2013</td>\n",
       "      <td>1</td>\n",
       "      <td>13</td>\n",
       "      <td>55</td>\n",
       "      <td>9</td>\n",
       "      <td>13.0</td>\n",
       "    </tr>\n",
       "    <tr>\n",
       "      <th>2</th>\n",
       "      <td>0</td>\n",
       "      <td>25</td>\n",
       "      <td>2574</td>\n",
       "      <td>2013</td>\n",
       "      <td>1</td>\n",
       "      <td>13</td>\n",
       "      <td>55</td>\n",
       "      <td>9</td>\n",
       "      <td>13.0</td>\n",
       "    </tr>\n",
       "    <tr>\n",
       "      <th>3</th>\n",
       "      <td>0</td>\n",
       "      <td>25</td>\n",
       "      <td>2574</td>\n",
       "      <td>2013</td>\n",
       "      <td>1</td>\n",
       "      <td>13</td>\n",
       "      <td>55</td>\n",
       "      <td>9</td>\n",
       "      <td>13.0</td>\n",
       "    </tr>\n",
       "    <tr>\n",
       "      <th>4</th>\n",
       "      <td>0</td>\n",
       "      <td>25</td>\n",
       "      <td>2574</td>\n",
       "      <td>2013</td>\n",
       "      <td>1</td>\n",
       "      <td>13</td>\n",
       "      <td>55</td>\n",
       "      <td>9</td>\n",
       "      <td>13.0</td>\n",
       "    </tr>\n",
       "  </tbody>\n",
       "</table>\n",
       "</div>"
      ],
      "text/plain": [
       "   date_block_num  shop_id  item_id  year  month  city_id  item_category_id  \\\n",
       "0               0       59    22154  2013      1       30                37   \n",
       "1               0       25     2574  2013      1       13                55   \n",
       "2               0       25     2574  2013      1       13                55   \n",
       "3               0       25     2574  2013      1       13                55   \n",
       "4               0       25     2574  2013      1       13                55   \n",
       "\n",
       "   item_category_id2  item_cnt_month  \n",
       "0                  7             1.0  \n",
       "1                  9            13.0  \n",
       "2                  9            13.0  \n",
       "3                  9            13.0  \n",
       "4                  9            13.0  "
      ]
     },
     "execution_count": 20,
     "metadata": {},
     "output_type": "execute_result"
    }
   ],
   "source": [
    "print('변경 전의 train data shape : {}'.format(train.shape))\n",
    "\n",
    "train = pd.merge(train, group, how='left')\n",
    "train.drop('item_cnt_day', axis=1, inplace=True)\n",
    "\n",
    "print('변경 후의 train data shape : {}'.format(train.shape))\n",
    "\n",
    "train.head()"
   ]
  },
  {
   "cell_type": "markdown",
   "id": "arbitrary-century",
   "metadata": {},
   "source": [
    "### 9) 결측치 제거하기"
   ]
  },
  {
   "cell_type": "code",
   "execution_count": 21,
   "id": "yellow-indonesian",
   "metadata": {},
   "outputs": [
    {
     "data": {
      "text/plain": [
       "date_block_num       0\n",
       "shop_id              0\n",
       "item_id              0\n",
       "year                 0\n",
       "month                0\n",
       "city_id              0\n",
       "item_category_id     0\n",
       "item_category_id2    0\n",
       "item_cnt_month       0\n",
       "dtype: int64"
      ]
     },
     "execution_count": 21,
     "metadata": {},
     "output_type": "execute_result"
    }
   ],
   "source": [
    "train.isnull().sum()"
   ]
  },
  {
   "cell_type": "code",
   "execution_count": 22,
   "id": "acquired-challenge",
   "metadata": {},
   "outputs": [
    {
     "data": {
      "text/plain": [
       "<AxesSubplot:>"
      ]
     },
     "execution_count": 22,
     "metadata": {},
     "output_type": "execute_result"
    },
    {
     "data": {
      "image/png": "[encoded data removed]",
      "text/plain": [
       "<Figure size 864x360 with 2 Axes>"
      ]
     },
     "metadata": {
      "needs_background": "light"
     },
     "output_type": "display_data"
    }
   ],
   "source": [
    "import missingno as msno\n",
    "\n",
    "msno.matrix(train, figsize=(12,5))"
   ]
  },
  {
   "cell_type": "markdown",
   "id": "aging-giving",
   "metadata": {},
   "source": [
    "### 10) 중복값 제거하기"
   ]
  },
  {
   "cell_type": "code",
   "execution_count": 23,
   "id": "advanced-donna",
   "metadata": {},
   "outputs": [
    {
     "name": "stdout",
     "output_type": "stream",
     "text": [
      "624280\n"
     ]
    },
    {
     "data": {
      "text/html": [
       "<div>\n",
       "<style scoped>\n",
       "    .dataframe tbody tr th:only-of-type {\n",
       "        vertical-align: middle;\n",
       "    }\n",
       "\n",
       "    .dataframe tbody tr th {\n",
       "        vertical-align: top;\n",
       "    }\n",
       "\n",
       "    .dataframe thead th {\n",
       "        text-align: right;\n",
       "    }\n",
       "</style>\n",
       "<table border=\"1\" class=\"dataframe\">\n",
       "  <thead>\n",
       "    <tr style=\"text-align: right;\">\n",
       "      <th></th>\n",
       "      <th>date_block_num</th>\n",
       "      <th>shop_id</th>\n",
       "      <th>item_id</th>\n",
       "      <th>year</th>\n",
       "      <th>month</th>\n",
       "      <th>city_id</th>\n",
       "      <th>item_category_id</th>\n",
       "      <th>item_category_id2</th>\n",
       "      <th>item_cnt_month</th>\n",
       "    </tr>\n",
       "  </thead>\n",
       "  <tbody>\n",
       "    <tr>\n",
       "      <th>2</th>\n",
       "      <td>0</td>\n",
       "      <td>25</td>\n",
       "      <td>2574</td>\n",
       "      <td>2013</td>\n",
       "      <td>1</td>\n",
       "      <td>13</td>\n",
       "      <td>55</td>\n",
       "      <td>9</td>\n",
       "      <td>13.0</td>\n",
       "    </tr>\n",
       "    <tr>\n",
       "      <th>3</th>\n",
       "      <td>0</td>\n",
       "      <td>25</td>\n",
       "      <td>2574</td>\n",
       "      <td>2013</td>\n",
       "      <td>1</td>\n",
       "      <td>13</td>\n",
       "      <td>55</td>\n",
       "      <td>9</td>\n",
       "      <td>13.0</td>\n",
       "    </tr>\n",
       "    <tr>\n",
       "      <th>4</th>\n",
       "      <td>0</td>\n",
       "      <td>25</td>\n",
       "      <td>2574</td>\n",
       "      <td>2013</td>\n",
       "      <td>1</td>\n",
       "      <td>13</td>\n",
       "      <td>55</td>\n",
       "      <td>9</td>\n",
       "      <td>13.0</td>\n",
       "    </tr>\n",
       "    <tr>\n",
       "      <th>5</th>\n",
       "      <td>0</td>\n",
       "      <td>25</td>\n",
       "      <td>2574</td>\n",
       "      <td>2013</td>\n",
       "      <td>1</td>\n",
       "      <td>13</td>\n",
       "      <td>55</td>\n",
       "      <td>9</td>\n",
       "      <td>13.0</td>\n",
       "    </tr>\n",
       "    <tr>\n",
       "      <th>6</th>\n",
       "      <td>0</td>\n",
       "      <td>25</td>\n",
       "      <td>2574</td>\n",
       "      <td>2013</td>\n",
       "      <td>1</td>\n",
       "      <td>13</td>\n",
       "      <td>55</td>\n",
       "      <td>9</td>\n",
       "      <td>13.0</td>\n",
       "    </tr>\n",
       "    <tr>\n",
       "      <th>...</th>\n",
       "      <td>...</td>\n",
       "      <td>...</td>\n",
       "      <td>...</td>\n",
       "      <td>...</td>\n",
       "      <td>...</td>\n",
       "      <td>...</td>\n",
       "      <td>...</td>\n",
       "      <td>...</td>\n",
       "      <td>...</td>\n",
       "    </tr>\n",
       "    <tr>\n",
       "      <th>1224426</th>\n",
       "      <td>33</td>\n",
       "      <td>25</td>\n",
       "      <td>7327</td>\n",
       "      <td>2015</td>\n",
       "      <td>10</td>\n",
       "      <td>13</td>\n",
       "      <td>55</td>\n",
       "      <td>9</td>\n",
       "      <td>2.0</td>\n",
       "    </tr>\n",
       "    <tr>\n",
       "      <th>1224433</th>\n",
       "      <td>33</td>\n",
       "      <td>25</td>\n",
       "      <td>7409</td>\n",
       "      <td>2015</td>\n",
       "      <td>10</td>\n",
       "      <td>13</td>\n",
       "      <td>55</td>\n",
       "      <td>9</td>\n",
       "      <td>3.0</td>\n",
       "    </tr>\n",
       "    <tr>\n",
       "      <th>1224434</th>\n",
       "      <td>33</td>\n",
       "      <td>25</td>\n",
       "      <td>7409</td>\n",
       "      <td>2015</td>\n",
       "      <td>10</td>\n",
       "      <td>13</td>\n",
       "      <td>55</td>\n",
       "      <td>9</td>\n",
       "      <td>3.0</td>\n",
       "    </tr>\n",
       "    <tr>\n",
       "      <th>1224435</th>\n",
       "      <td>33</td>\n",
       "      <td>25</td>\n",
       "      <td>7460</td>\n",
       "      <td>2015</td>\n",
       "      <td>10</td>\n",
       "      <td>13</td>\n",
       "      <td>55</td>\n",
       "      <td>9</td>\n",
       "      <td>3.0</td>\n",
       "    </tr>\n",
       "    <tr>\n",
       "      <th>1224438</th>\n",
       "      <td>33</td>\n",
       "      <td>25</td>\n",
       "      <td>7460</td>\n",
       "      <td>2015</td>\n",
       "      <td>10</td>\n",
       "      <td>13</td>\n",
       "      <td>55</td>\n",
       "      <td>9</td>\n",
       "      <td>3.0</td>\n",
       "    </tr>\n",
       "  </tbody>\n",
       "</table>\n",
       "<p>624280 rows × 9 columns</p>\n",
       "</div>"
      ],
      "text/plain": [
       "         date_block_num  shop_id  item_id  year  month  city_id  \\\n",
       "2                     0       25     2574  2013      1       13   \n",
       "3                     0       25     2574  2013      1       13   \n",
       "4                     0       25     2574  2013      1       13   \n",
       "5                     0       25     2574  2013      1       13   \n",
       "6                     0       25     2574  2013      1       13   \n",
       "...                 ...      ...      ...   ...    ...      ...   \n",
       "1224426              33       25     7327  2015     10       13   \n",
       "1224433              33       25     7409  2015     10       13   \n",
       "1224434              33       25     7409  2015     10       13   \n",
       "1224435              33       25     7460  2015     10       13   \n",
       "1224438              33       25     7460  2015     10       13   \n",
       "\n",
       "         item_category_id  item_category_id2  item_cnt_month  \n",
       "2                      55                  9            13.0  \n",
       "3                      55                  9            13.0  \n",
       "4                      55                  9            13.0  \n",
       "5                      55                  9            13.0  \n",
       "6                      55                  9            13.0  \n",
       "...                   ...                ...             ...  \n",
       "1224426                55                  9             2.0  \n",
       "1224433                55                  9             3.0  \n",
       "1224434                55                  9             3.0  \n",
       "1224435                55                  9             3.0  \n",
       "1224438                55                  9             3.0  \n",
       "\n",
       "[624280 rows x 9 columns]"
      ]
     },
     "execution_count": 23,
     "metadata": {},
     "output_type": "execute_result"
    }
   ],
   "source": [
    "print(len(train[train.duplicated()]))\n",
    "train[train.duplicated()]"
   ]
  },
  {
   "cell_type": "code",
   "execution_count": 24,
   "id": "timely-plymouth",
   "metadata": {},
   "outputs": [
    {
     "name": "stdout",
     "output_type": "stream",
     "text": [
      "중복 제거 전의 train data shape : (1224439, 9)\n",
      "중복 제거 후의 train data shape : (600159, 9)\n"
     ]
    }
   ],
   "source": [
    "print('중복 제거 전의 train data shape : {}'.format(train.shape))\n",
    "\n",
    "train.drop_duplicates(inplace=True, ignore_index = True)\n",
    "\n",
    "print('중복 제거 후의 train data shape : {}'.format(train.shape))"
   ]
  },
  {
   "cell_type": "code",
   "execution_count": 25,
   "id": "upper-registration",
   "metadata": {},
   "outputs": [
    {
     "data": {
      "text/html": [
       "<div>\n",
       "<style scoped>\n",
       "    .dataframe tbody tr th:only-of-type {\n",
       "        vertical-align: middle;\n",
       "    }\n",
       "\n",
       "    .dataframe tbody tr th {\n",
       "        vertical-align: top;\n",
       "    }\n",
       "\n",
       "    .dataframe thead th {\n",
       "        text-align: right;\n",
       "    }\n",
       "</style>\n",
       "<table border=\"1\" class=\"dataframe\">\n",
       "  <thead>\n",
       "    <tr style=\"text-align: right;\">\n",
       "      <th></th>\n",
       "      <th>date_block_num</th>\n",
       "      <th>shop_id</th>\n",
       "      <th>item_id</th>\n",
       "      <th>year</th>\n",
       "      <th>month</th>\n",
       "      <th>city_id</th>\n",
       "      <th>item_category_id</th>\n",
       "      <th>item_category_id2</th>\n",
       "      <th>item_cnt_month</th>\n",
       "    </tr>\n",
       "  </thead>\n",
       "  <tbody>\n",
       "    <tr>\n",
       "      <th>0</th>\n",
       "      <td>0</td>\n",
       "      <td>59</td>\n",
       "      <td>22154</td>\n",
       "      <td>2013</td>\n",
       "      <td>1</td>\n",
       "      <td>30</td>\n",
       "      <td>37</td>\n",
       "      <td>7</td>\n",
       "      <td>1.0</td>\n",
       "    </tr>\n",
       "    <tr>\n",
       "      <th>1</th>\n",
       "      <td>0</td>\n",
       "      <td>25</td>\n",
       "      <td>2574</td>\n",
       "      <td>2013</td>\n",
       "      <td>1</td>\n",
       "      <td>13</td>\n",
       "      <td>55</td>\n",
       "      <td>9</td>\n",
       "      <td>13.0</td>\n",
       "    </tr>\n",
       "    <tr>\n",
       "      <th>2</th>\n",
       "      <td>0</td>\n",
       "      <td>25</td>\n",
       "      <td>2607</td>\n",
       "      <td>2013</td>\n",
       "      <td>1</td>\n",
       "      <td>13</td>\n",
       "      <td>55</td>\n",
       "      <td>9</td>\n",
       "      <td>2.0</td>\n",
       "    </tr>\n",
       "    <tr>\n",
       "      <th>3</th>\n",
       "      <td>0</td>\n",
       "      <td>25</td>\n",
       "      <td>2614</td>\n",
       "      <td>2013</td>\n",
       "      <td>1</td>\n",
       "      <td>13</td>\n",
       "      <td>55</td>\n",
       "      <td>9</td>\n",
       "      <td>2.0</td>\n",
       "    </tr>\n",
       "    <tr>\n",
       "      <th>4</th>\n",
       "      <td>0</td>\n",
       "      <td>25</td>\n",
       "      <td>2808</td>\n",
       "      <td>2013</td>\n",
       "      <td>1</td>\n",
       "      <td>13</td>\n",
       "      <td>30</td>\n",
       "      <td>5</td>\n",
       "      <td>30.0</td>\n",
       "    </tr>\n",
       "    <tr>\n",
       "      <th>...</th>\n",
       "      <td>...</td>\n",
       "      <td>...</td>\n",
       "      <td>...</td>\n",
       "      <td>...</td>\n",
       "      <td>...</td>\n",
       "      <td>...</td>\n",
       "      <td>...</td>\n",
       "      <td>...</td>\n",
       "      <td>...</td>\n",
       "    </tr>\n",
       "    <tr>\n",
       "      <th>600154</th>\n",
       "      <td>33</td>\n",
       "      <td>25</td>\n",
       "      <td>7409</td>\n",
       "      <td>2015</td>\n",
       "      <td>10</td>\n",
       "      <td>13</td>\n",
       "      <td>55</td>\n",
       "      <td>9</td>\n",
       "      <td>3.0</td>\n",
       "    </tr>\n",
       "    <tr>\n",
       "      <th>600155</th>\n",
       "      <td>33</td>\n",
       "      <td>25</td>\n",
       "      <td>7393</td>\n",
       "      <td>2015</td>\n",
       "      <td>10</td>\n",
       "      <td>13</td>\n",
       "      <td>55</td>\n",
       "      <td>9</td>\n",
       "      <td>1.0</td>\n",
       "    </tr>\n",
       "    <tr>\n",
       "      <th>600156</th>\n",
       "      <td>33</td>\n",
       "      <td>25</td>\n",
       "      <td>7384</td>\n",
       "      <td>2015</td>\n",
       "      <td>10</td>\n",
       "      <td>13</td>\n",
       "      <td>55</td>\n",
       "      <td>9</td>\n",
       "      <td>1.0</td>\n",
       "    </tr>\n",
       "    <tr>\n",
       "      <th>600157</th>\n",
       "      <td>33</td>\n",
       "      <td>25</td>\n",
       "      <td>7459</td>\n",
       "      <td>2015</td>\n",
       "      <td>10</td>\n",
       "      <td>13</td>\n",
       "      <td>55</td>\n",
       "      <td>9</td>\n",
       "      <td>1.0</td>\n",
       "    </tr>\n",
       "    <tr>\n",
       "      <th>600158</th>\n",
       "      <td>33</td>\n",
       "      <td>25</td>\n",
       "      <td>7440</td>\n",
       "      <td>2015</td>\n",
       "      <td>10</td>\n",
       "      <td>13</td>\n",
       "      <td>57</td>\n",
       "      <td>9</td>\n",
       "      <td>1.0</td>\n",
       "    </tr>\n",
       "  </tbody>\n",
       "</table>\n",
       "<p>600159 rows × 9 columns</p>\n",
       "</div>"
      ],
      "text/plain": [
       "        date_block_num  shop_id  item_id  year  month  city_id  \\\n",
       "0                    0       59    22154  2013      1       30   \n",
       "1                    0       25     2574  2013      1       13   \n",
       "2                    0       25     2607  2013      1       13   \n",
       "3                    0       25     2614  2013      1       13   \n",
       "4                    0       25     2808  2013      1       13   \n",
       "...                ...      ...      ...   ...    ...      ...   \n",
       "600154              33       25     7409  2015     10       13   \n",
       "600155              33       25     7393  2015     10       13   \n",
       "600156              33       25     7384  2015     10       13   \n",
       "600157              33       25     7459  2015     10       13   \n",
       "600158              33       25     7440  2015     10       13   \n",
       "\n",
       "        item_category_id  item_category_id2  item_cnt_month  \n",
       "0                     37                  7             1.0  \n",
       "1                     55                  9            13.0  \n",
       "2                     55                  9             2.0  \n",
       "3                     55                  9             2.0  \n",
       "4                     30                  5            30.0  \n",
       "...                  ...                ...             ...  \n",
       "600154                55                  9             3.0  \n",
       "600155                55                  9             1.0  \n",
       "600156                55                  9             1.0  \n",
       "600157                55                  9             1.0  \n",
       "600158                57                  9             1.0  \n",
       "\n",
       "[600159 rows x 9 columns]"
      ]
     },
     "execution_count": 25,
     "metadata": {},
     "output_type": "execute_result"
    }
   ],
   "source": [
    "train"
   ]
  },
  {
   "cell_type": "markdown",
   "id": "turkish-montreal",
   "metadata": {},
   "source": [
    "### 11) 데이터 시각화"
   ]
  },
  {
   "cell_type": "code",
   "execution_count": 26,
   "id": "driven-throw",
   "metadata": {},
   "outputs": [
    {
     "data": {
      "text/plain": [
       "<AxesSubplot:xlabel='date_block_num', ylabel='item_cnt_month'>"
      ]
     },
     "execution_count": 26,
     "metadata": {},
     "output_type": "execute_result"
    },
    {
     "data": {
      "image/png": "[encoded data removed]",
      "text/plain": [
       "<Figure size 1296x1080 with 3 Axes>"
      ]
     },
     "metadata": {},
     "output_type": "display_data"
    }
   ],
   "source": [
    "import matplotlib as mpl\n",
    "import matplotlib.pyplot as plt\n",
    "import seaborn as sns\n",
    "from scipy import stats\n",
    "\n",
    "# 노트북 안에 그래프를 그리기 위해\n",
    "%matplotlib inline\n",
    "\n",
    "# 그래프에서 격자로 숫자 범위가 눈에 잘 띄도록 ggplot 스타일을 사용\n",
    "plt.style.use('ggplot')\n",
    "\n",
    "# 그래프에서 마이너스 폰트 깨지는 문제에 대한 대처\n",
    "mpl.rcParams['axes.unicode_minus'] = False\n",
    "\n",
    "figure, (ax1, ax2, ax3) = plt.subplots(nrows=3, ncols=1)\n",
    "figure.set_size_inches(18,15)\n",
    "\n",
    "sns.barplot(data=train, x=\"year\", y=\"item_cnt_month\", ax=ax1)\n",
    "sns.barplot(data=train, x=\"month\", y=\"item_cnt_month\", ax=ax2)\n",
    "sns.barplot(data=train, x=\"date_block_num\", y=\"item_cnt_month\", ax=ax3)\n"
   ]
  },
  {
   "cell_type": "code",
   "execution_count": 27,
   "id": "elementary-mineral",
   "metadata": {},
   "outputs": [
    {
     "data": {
      "text/plain": [
       "<AxesSubplot:xlabel='shop_id', ylabel='item_cnt_month'>"
      ]
     },
     "execution_count": 27,
     "metadata": {},
     "output_type": "execute_result"
    },
    {
     "data": {
      "image/png": "[encoded data removed]",
      "text/plain": [
       "<Figure size 1296x576 with 1 Axes>"
      ]
     },
     "metadata": {},
     "output_type": "display_data"
    }
   ],
   "source": [
    "fig = plt.figure()\n",
    "\n",
    "fig.set_size_inches(18, 8)\n",
    "\n",
    "sns.barplot(data=train, x=\"shop_id\", y=\"item_cnt_month\")"
   ]
  },
  {
   "cell_type": "code",
   "execution_count": 28,
   "id": "violent-mission",
   "metadata": {},
   "outputs": [
    {
     "name": "stdout",
     "output_type": "stream",
     "text": [
      "['Уфа ТЦ \"Семья\" 2']\n",
      "['Интернет-магазин ЧС']\n",
      "['Москва ТЦ \"Семеновский\"']\n"
     ]
    }
   ],
   "source": [
    "first = shops['shop_id'] == 53\n",
    "second = shops['shop_id'] == 12\n",
    "third = shops['shop_id'] == 31\n",
    "\n",
    "print(shops[first][\"shop_name\"].values)   \n",
    "print(shops[second][\"shop_name\"].values)\n",
    "print(shops[third][\"shop_name\"].values)"
   ]
  },
  {
   "cell_type": "code",
   "execution_count": 29,
   "id": "acceptable-terry",
   "metadata": {},
   "outputs": [
    {
     "data": {
      "text/plain": [
       "<AxesSubplot:xlabel='city_id', ylabel='item_cnt_month'>"
      ]
     },
     "execution_count": 29,
     "metadata": {},
     "output_type": "execute_result"
    },
    {
     "data": {
      "image/png": "[encoded data removed]",
      "text/plain": [
       "<Figure size 1296x576 with 1 Axes>"
      ]
     },
     "metadata": {},
     "output_type": "display_data"
    }
   ],
   "source": [
    "fig = plt.figure()\n",
    "\n",
    "fig.set_size_inches(18, 8)\n",
    "\n",
    "sns.barplot(data=train, x=\"city_id\", y=\"item_cnt_month\")"
   ]
  },
  {
   "cell_type": "code",
   "execution_count": 30,
   "id": "geological-uzbekistan",
   "metadata": {},
   "outputs": [
    {
     "name": "stdout",
     "output_type": "stream",
     "text": [
      "['Цифровой']\n",
      "['Интернет-магазин']\n"
     ]
    }
   ],
   "source": [
    "first = shops['city_id'] == 27\n",
    "second = shops['city_id'] == 7\n",
    "\n",
    "print(shops[first][\"city\"].values)\n",
    "print(shops[second][\"city\"].values)"
   ]
  },
  {
   "cell_type": "code",
   "execution_count": 31,
   "id": "dynamic-michigan",
   "metadata": {},
   "outputs": [
    {
     "data": {
      "text/plain": [
       "<AxesSubplot:xlabel='item_category_id', ylabel='item_cnt_month'>"
      ]
     },
     "execution_count": 31,
     "metadata": {},
     "output_type": "execute_result"
    },
    {
     "data": {
      "image/png": "[encoded data removed]",
      "text/plain": [
       "<Figure size 1296x576 with 1 Axes>"
      ]
     },
     "metadata": {},
     "output_type": "display_data"
    }
   ],
   "source": [
    "fig = plt.figure()\n",
    "\n",
    "fig.set_size_inches(18, 8)\n",
    "\n",
    "sns.barplot(data=train, x=\"item_category_id\", y=\"item_cnt_month\")"
   ]
  },
  {
   "cell_type": "code",
   "execution_count": 32,
   "id": "hourly-machine",
   "metadata": {},
   "outputs": [
    {
     "name": "stdout",
     "output_type": "stream",
     "text": [
      "['Подарки - Сумки, Альбомы, Коврики д/мыши']\n",
      "['Доставка товара']\n",
      "['Карты оплаты - Live! (Цифра)']\n"
     ]
    }
   ],
   "source": [
    "first = item_categories['item_category_id'] == 71\n",
    "second = item_categories['item_category_id'] == 9\n",
    "third = item_categories['item_category_id'] == 34\n",
    "\n",
    "print(item_categories[first][\"item_category_name\"].values)\n",
    "print(item_categories[second][\"item_category_name\"].values)\n",
    "print(item_categories[third][\"item_category_name\"].values)"
   ]
  },
  {
   "cell_type": "code",
   "execution_count": 33,
   "id": "reported-philadelphia",
   "metadata": {},
   "outputs": [
    {
     "data": {
      "text/plain": [
       "<AxesSubplot:xlabel='item_category_id2', ylabel='item_cnt_month'>"
      ]
     },
     "execution_count": 33,
     "metadata": {},
     "output_type": "execute_result"
    },
    {
     "data": {
      "image/png": "[encoded data removed]",
      "text/plain": [
       "<Figure size 1296x576 with 1 Axes>"
      ]
     },
     "metadata": {},
     "output_type": "display_data"
    }
   ],
   "source": [
    "fig = plt.figure()\n",
    "\n",
    "fig.set_size_inches(18, 8)\n",
    "\n",
    "sns.barplot(data=train, x=\"item_category_id2\", y=\"item_cnt_month\")"
   ]
  },
  {
   "cell_type": "code",
   "execution_count": 34,
   "id": "compliant-vintage",
   "metadata": {},
   "outputs": [
    {
     "name": "stdout",
     "output_type": "stream",
     "text": [
      "['Доставка']\n"
     ]
    }
   ],
   "source": [
    "first = item_categories['item_category_id2'] == 3\n",
    "\n",
    "print(item_categories[first][\"item_category_name2\"].values)"
   ]
  },
  {
   "cell_type": "code",
   "execution_count": 35,
   "id": "trying-capture",
   "metadata": {},
   "outputs": [
    {
     "data": {
      "text/plain": [
       "<AxesSubplot:xlabel='item_category_id2', ylabel='item_cnt_month'>"
      ]
     },
     "execution_count": 35,
     "metadata": {},
     "output_type": "execute_result"
    },
    {
     "data": {
      "image/png": "[encoded data removed]",
      "text/plain": [
       "<Figure size 1296x576 with 1 Axes>"
      ]
     },
     "metadata": {},
     "output_type": "display_data"
    }
   ],
   "source": [
    "fig = plt.figure()\n",
    "\n",
    "fig.set_size_inches(18, 8)\n",
    "\n",
    "sns.boxplot(data=train, x=\"item_category_id2\", y=\"item_cnt_month\")"
   ]
  },
  {
   "cell_type": "code",
   "execution_count": 36,
   "id": "square-reserve",
   "metadata": {},
   "outputs": [
    {
     "data": {
      "text/plain": [
       "(0.0, 2500.0)"
      ]
     },
     "execution_count": 36,
     "metadata": {},
     "output_type": "execute_result"
    },
    {
     "data": {
      "image/png": "[encoded data removed]",
      "text/plain": [
       "<Figure size 1296x576 with 1 Axes>"
      ]
     },
     "metadata": {},
     "output_type": "display_data"
    }
   ],
   "source": [
    "first = train[\"item_category_id2\"] == 3\n",
    "second = train['item_cnt_month'] > 500\n",
    "sub = train.drop(train[first & second].index, axis=0)\n",
    "\n",
    "first = train[\"item_category_id2\"] == 5\n",
    "second = train['item_cnt_month'] > 700\n",
    "sub = sub.drop(train[first & second].index, axis=0)\n",
    "\n",
    "first = train[\"item_category_id2\"] == 10\n",
    "second = train['item_cnt_month'] > 1200\n",
    "sub = sub.drop(train[first & second].index, axis=0)\n",
    "\n",
    "fig = plt.figure()\n",
    "\n",
    "fig.set_size_inches(18, 8)\n",
    "\n",
    "sns.boxplot(data=sub, x=\"item_category_id2\", y=\"item_cnt_month\")\n",
    "plt.ylim(0, 2500)"
   ]
  },
  {
   "cell_type": "code",
   "execution_count": 37,
   "id": "preliminary-conference",
   "metadata": {},
   "outputs": [
    {
     "data": {
      "text/plain": [
       "<AxesSubplot:xlabel='item_category_id', ylabel='item_cnt_month'>"
      ]
     },
     "execution_count": 37,
     "metadata": {},
     "output_type": "execute_result"
    },
    {
     "data": {
      "image/png": "[encoded data removed]",
      "text/plain": [
       "<Figure size 1296x576 with 1 Axes>"
      ]
     },
     "metadata": {},
     "output_type": "display_data"
    }
   ],
   "source": [
    "fig = plt.figure()\n",
    "\n",
    "fig.set_size_inches(18, 8)\n",
    "\n",
    "sns.boxplot(data=train, x=\"item_category_id\", y=\"item_cnt_month\",orient=\"v\")"
   ]
  },
  {
   "cell_type": "code",
   "execution_count": 38,
   "id": "vertical-butterfly",
   "metadata": {},
   "outputs": [
    {
     "data": {
      "text/plain": [
       "(0.0, 2500.0)"
      ]
     },
     "execution_count": 38,
     "metadata": {},
     "output_type": "execute_result"
    },
    {
     "data": {
      "image/png": "[encoded data removed]",
      "text/plain": [
       "<Figure size 1296x576 with 1 Axes>"
      ]
     },
     "metadata": {},
     "output_type": "display_data"
    }
   ],
   "source": [
    "first = train[\"item_category_id\"] == 9\n",
    "second = train['item_cnt_month'] > 500\n",
    "sub = train.drop(train[first & second].index, axis=0)\n",
    "\n",
    "first = train[\"item_category_id\"] == 19\n",
    "second = train['item_cnt_month'] > 300\n",
    "sub = sub.drop(train[first & second].index, axis=0)\n",
    "\n",
    "first = train[\"item_category_id\"] == 28\n",
    "second = train['item_cnt_month'] > 500\n",
    "sub = sub.drop(train[first & second].index, axis=0)\n",
    "\n",
    "first = train[\"item_category_id\"] == 30\n",
    "second = train['item_cnt_month'] > 400\n",
    "sub = sub.drop(train[first & second].index, axis=0)\n",
    "\n",
    "first = train[\"item_category_id\"] == 71\n",
    "second = train['item_cnt_month'] > 1100\n",
    "sub = sub.drop(train[first & second].index, axis=0)\n",
    "\n",
    "first = train[\"item_category_id\"] == 83\n",
    "second = train['item_cnt_month'] > 100\n",
    "sub = sub.drop(train[first & second].index, axis=0)\n",
    "\n",
    "\n",
    "fig = plt.figure()\n",
    "\n",
    "fig.set_size_inches(18, 8)\n",
    "\n",
    "sns.boxplot(data=sub, x=\"item_category_id\", y=\"item_cnt_month\")\n",
    "plt.ylim(0, 2500)"
   ]
  },
  {
   "cell_type": "code",
   "execution_count": 39,
   "id": "usual-bradley",
   "metadata": {},
   "outputs": [
    {
     "data": {
      "text/plain": [
       "<AxesSubplot:xlabel='city_id', ylabel='item_cnt_month'>"
      ]
     },
     "execution_count": 39,
     "metadata": {},
     "output_type": "execute_result"
    },
    {
     "data": {
      "image/png": "[encoded data removed]",
      "text/plain": [
       "<Figure size 1296x576 with 1 Axes>"
      ]
     },
     "metadata": {},
     "output_type": "display_data"
    }
   ],
   "source": [
    "fig = plt.figure()\n",
    "\n",
    "fig.set_size_inches(18, 8)\n",
    "\n",
    "sns.boxplot(data=train, x=\"city_id\", y=\"item_cnt_month\",orient=\"v\")"
   ]
  },
  {
   "cell_type": "code",
   "execution_count": 40,
   "id": "connected-oriental",
   "metadata": {},
   "outputs": [
    {
     "data": {
      "text/plain": [
       "(0.0, 2500.0)"
      ]
     },
     "execution_count": 40,
     "metadata": {},
     "output_type": "execute_result"
    },
    {
     "data": {
      "image/png": "[encoded data removed]",
      "text/plain": [
       "<Figure size 1296x576 with 1 Axes>"
      ]
     },
     "metadata": {},
     "output_type": "display_data"
    }
   ],
   "source": [
    "first = train[\"city_id\"] == 7\n",
    "second = train['item_cnt_month'] > 600\n",
    "sub = train.drop(train[first & second].index, axis=0)\n",
    "\n",
    "first = train[\"city_id\"] == 9\n",
    "second = train['item_cnt_month'] > 400\n",
    "sub = sub.drop(train[first & second].index, axis=0)\n",
    "\n",
    "first = train[\"city_id\"] == 13\n",
    "second = train['item_cnt_month'] > 1100\n",
    "sub = sub.drop(train[first & second].index, axis=0)\n",
    "\n",
    "first = train[\"city_id\"] == 19\n",
    "second = train['item_cnt_month'] > 500\n",
    "sub = sub.drop(train[first & second].index, axis=0)\n",
    "\n",
    "first = train[\"city_id\"] == 22\n",
    "second = train['item_cnt_month'] > 1100\n",
    "sub = sub.drop(train[first & second].index, axis=0)\n",
    "\n",
    "first = train[\"city_id\"] == 29\n",
    "second = train['item_cnt_month'] > 350\n",
    "sub = sub.drop(train[first & second].index, axis=0)\n",
    "\n",
    "\n",
    "fig = plt.figure()\n",
    "\n",
    "fig.set_size_inches(18, 8)\n",
    "\n",
    "sns.boxplot(data=sub, x=\"city_id\", y=\"item_cnt_month\")\n",
    "plt.ylim(0, 2500)"
   ]
  },
  {
   "cell_type": "code",
   "execution_count": 41,
   "id": "impaired-process",
   "metadata": {},
   "outputs": [
    {
     "data": {
      "text/plain": [
       "<AxesSubplot:xlabel='shop_id', ylabel='item_cnt_month'>"
      ]
     },
     "execution_count": 41,
     "metadata": {},
     "output_type": "execute_result"
    },
    {
     "data": {
      "image/png": "[encoded data removed]",
      "text/plain": [
       "<Figure size 1296x576 with 1 Axes>"
      ]
     },
     "metadata": {},
     "output_type": "display_data"
    }
   ],
   "source": [
    "fig = plt.figure()\n",
    "\n",
    "fig.set_size_inches(18, 8)\n",
    "\n",
    "sns.boxplot(data=train, x=\"shop_id\", y=\"item_cnt_month\")"
   ]
  },
  {
   "cell_type": "code",
   "execution_count": 42,
   "id": "associate-search",
   "metadata": {},
   "outputs": [
    {
     "data": {
      "text/plain": [
       "(0.0, 2500.0)"
      ]
     },
     "execution_count": 42,
     "metadata": {},
     "output_type": "execute_result"
    },
    {
     "data": {
      "image/png": "[encoded data removed]",
      "text/plain": [
       "<Figure size 1296x576 with 1 Axes>"
      ]
     },
     "metadata": {},
     "output_type": "display_data"
    }
   ],
   "source": [
    "first = train[\"shop_id\"] == 12\n",
    "second = train['item_cnt_month'] > 650\n",
    "sub = train.drop(train[first & second].index, axis=0)\n",
    "\n",
    "first = train[\"shop_id\"] == 15\n",
    "second = train['item_cnt_month'] > 400\n",
    "sub = sub.drop(train[first & second].index, axis=0)\n",
    "\n",
    "first = train[\"shop_id\"] == 24\n",
    "second = train['item_cnt_month'] > 400\n",
    "sub = sub.drop(train[first & second].index, axis=0)\n",
    "\n",
    "first = train[\"shop_id\"] == 25\n",
    "second = train['item_cnt_month'] > 650\n",
    "sub = sub.drop(train[first & second].index, axis=0)\n",
    "\n",
    "first = train[\"shop_id\"] == 31\n",
    "second = train['item_cnt_month'] > 1100\n",
    "sub = sub.drop(train[first & second].index, axis=0)\n",
    "\n",
    "first = train[\"shop_id\"] == 42\n",
    "second = train['item_cnt_month'] > 500\n",
    "sub = sub.drop(train[first & second].index, axis=0)\n",
    "\n",
    "first = train[\"shop_id\"] == 47\n",
    "second = train['item_cnt_month'] > 320\n",
    "sub = sub.drop(train[first & second].index, axis=0)\n",
    "\n",
    "first = train[\"shop_id\"] == 57\n",
    "second = train['item_cnt_month'] > 380\n",
    "sub = sub.drop(train[first & second].index, axis=0)\n",
    "\n",
    "first = train[\"shop_id\"] == 58\n",
    "second = train['item_cnt_month'] > 230\n",
    "sub = sub.drop(train[first & second].index, axis=0)\n",
    "\n",
    "fig = plt.figure()\n",
    "\n",
    "fig.set_size_inches(18, 8)\n",
    "\n",
    "sns.boxplot(data=sub, x=\"shop_id\", y=\"item_cnt_month\")\n",
    "plt.ylim(0, 2500)"
   ]
  },
  {
   "cell_type": "code",
   "execution_count": 43,
   "id": "prompt-acrylic",
   "metadata": {},
   "outputs": [
    {
     "data": {
      "text/plain": [
       "<AxesSubplot:xlabel='date_block_num', ylabel='item_cnt_month'>"
      ]
     },
     "execution_count": 43,
     "metadata": {},
     "output_type": "execute_result"
    },
    {
     "data": {
      "image/png": "[encoded data removed]",
      "text/plain": [
       "<Figure size 1296x1080 with 3 Axes>"
      ]
     },
     "metadata": {},
     "output_type": "display_data"
    }
   ],
   "source": [
    "figure, (ax1, ax2, ax3) = plt.subplots(nrows=3, ncols=1)\n",
    "figure.set_size_inches(18,15)\n",
    "\n",
    "sns.boxplot(data=train, x=\"year\", y=\"item_cnt_month\", ax=ax1)\n",
    "sns.boxplot(data=train, x=\"month\", y=\"item_cnt_month\", ax=ax2)\n",
    "sns.boxplot(data=train, x=\"date_block_num\", y=\"item_cnt_month\", ax=ax3)"
   ]
  },
  {
   "cell_type": "code",
   "execution_count": 51,
   "id": "colonial-relief",
   "metadata": {},
   "outputs": [
    {
     "data": {
      "text/plain": [
       "(0.0, 2500.0)"
      ]
     },
     "execution_count": 51,
     "metadata": {},
     "output_type": "execute_result"
    },
    {
     "data": {
      "image/png": "[encoded data removed]",
      "text/plain": [
       "<Figure size 1296x1080 with 3 Axes>"
      ]
     },
     "metadata": {},
     "output_type": "display_data"
    }
   ],
   "source": [
    "first = train[\"year\"] == 2013\n",
    "second = train['item_cnt_month'] > 1200\n",
    "sub1 = train.drop(train[first & second].index, axis=0)\n",
    "\n",
    "first = train[\"year\"] == 2014\n",
    "second = train['item_cnt_month'] > 1100\n",
    "sub1 = sub1.drop(train[first & second].index, axis=0)\n",
    "\n",
    "first = train[\"year\"] == 2015\n",
    "second = train['item_cnt_month'] > 1500\n",
    "sub1 = sub1.drop(train[first & second].index, axis=0)\n",
    "\n",
    "first = train[\"month\"] == 2\n",
    "second = train['item_cnt_month'] > 600\n",
    "sub2 = train.drop(train[first & second].index, axis=0)\n",
    "\n",
    "first = train[\"month\"] == 3\n",
    "second = train['item_cnt_month'] > 600\n",
    "sub2 = sub2.drop(train[first & second].index, axis=0)\n",
    "\n",
    "first = train[\"month\"] == 4\n",
    "second = train['item_cnt_month'] > 700\n",
    "sub2 = sub2.drop(train[first & second].index, axis=0)\n",
    "\n",
    "first = train[\"month\"] == 5\n",
    "second = train['item_cnt_month'] > 600\n",
    "sub2 = sub2.drop(train[first & second].index, axis=0)\n",
    "\n",
    "first = train[\"month\"] == 7\n",
    "second = train['item_cnt_month'] > 750\n",
    "sub2 = sub2.drop(train[first & second].index, axis=0)\n",
    "\n",
    "first = train[\"month\"] == 8\n",
    "second = train['item_cnt_month'] > 750\n",
    "sub2 = sub2.drop(train[first & second].index, axis=0)\n",
    "\n",
    "first = train[\"month\"] == 9\n",
    "second = train['item_cnt_month'] > 800\n",
    "sub2 = sub2.drop(train[first & second].index, axis=0)\n",
    "\n",
    "first = train[\"month\"] == 10\n",
    "second = train['item_cnt_month'] > 800\n",
    "sub2 = sub2.drop(train[first & second].index, axis=0)\n",
    "\n",
    "first = train[\"month\"] == 11\n",
    "second = train['item_cnt_month'] > 600\n",
    "sub2 = sub2.drop(train[first & second].index, axis=0)\n",
    "\n",
    "first = train[\"month\"] == 12\n",
    "second = train['item_cnt_month'] > 900\n",
    "sub2 = sub2.drop(train[first & second].index, axis=0)\n",
    "\n",
    "first = train[\"date_block_num\"] == 4\n",
    "second = train['item_cnt_month'] > 250\n",
    "sub3 = train.drop(train[first & second].index, axis=0)\n",
    "\n",
    "first = train[\"date_block_num\"] == 5\n",
    "second = train['item_cnt_month'] > 500\n",
    "sub3 = sub3.drop(train[first & second].index, axis=0)\n",
    "\n",
    "first = train[\"date_block_num\"] == 6\n",
    "second = train['item_cnt_month'] > 500\n",
    "sub3 = sub3.drop(train[first & second].index, axis=0)\n",
    "\n",
    "first = train[\"date_block_num\"] == 7\n",
    "second = train['item_cnt_month'] > 500\n",
    "sub3 = sub3.drop(train[first & second].index, axis=0)\n",
    "\n",
    "first = train[\"date_block_num\"] == 8\n",
    "second = train['item_cnt_month'] > 600\n",
    "sub3 = sub3.drop(train[first & second].index, axis=0)\n",
    "\n",
    "first = train[\"date_block_num\"] == 9\n",
    "second = train['item_cnt_month'] > 500\n",
    "sub3 = sub3.drop(train[first & second].index, axis=0)\n",
    "\n",
    "first = train[\"date_block_num\"] == 10\n",
    "second = train['item_cnt_month'] > 500\n",
    "sub3 = sub3.drop(train[first & second].index, axis=0)\n",
    "\n",
    "first = train[\"date_block_num\"] == 11\n",
    "second = train['item_cnt_month'] > 400\n",
    "sub3 = sub3.drop(train[first & second].index, axis=0)\n",
    "\n",
    "first = train[\"date_block_num\"] == 12\n",
    "second = train['item_cnt_month'] > 500\n",
    "sub3 = sub3.drop(train[first & second].index, axis=0)\n",
    "\n",
    "first = train[\"date_block_num\"] == 13\n",
    "second = train['item_cnt_month'] > 250\n",
    "sub3 = sub3.drop(train[first & second].index, axis=0)\n",
    "\n",
    "first = train[\"date_block_num\"] == 14\n",
    "second = train['item_cnt_month'] > 600\n",
    "sub3 = sub3.drop(train[first & second].index, axis=0)\n",
    "\n",
    "first = train[\"date_block_num\"] == 15\n",
    "second = train['item_cnt_month'] > 300\n",
    "sub3 = sub3.drop(train[first & second].index, axis=0)\n",
    "\n",
    "first = train[\"date_block_num\"] == 16\n",
    "second = train['item_cnt_month'] > 300\n",
    "sub3 = sub3.drop(train[first & second].index, axis=0)\n",
    "\n",
    "first = train[\"date_block_num\"] == 17\n",
    "second = train['item_cnt_month'] > 500\n",
    "sub3 = sub3.drop(train[first & second].index, axis=0)\n",
    "\n",
    "first = train[\"date_block_num\"] == 18\n",
    "second = train['item_cnt_month'] > 200\n",
    "sub3 = sub3.drop(train[first & second].index, axis=0)\n",
    "\n",
    "first = train[\"date_block_num\"] == 19\n",
    "second = train['item_cnt_month'] > 200\n",
    "sub3 = sub3.drop(train[first & second].index, axis=0)\n",
    "\n",
    "first = train[\"date_block_num\"] == 20\n",
    "second = train['item_cnt_month'] > 300\n",
    "sub3 = sub3.drop(train[first & second].index, axis=0)\n",
    "\n",
    "first = train[\"date_block_num\"] == 21\n",
    "second = train['item_cnt_month'] > 550\n",
    "sub3 = sub3.drop(train[first & second].index, axis=0)\n",
    "\n",
    "first = train[\"date_block_num\"] == 22\n",
    "second = train['item_cnt_month'] > 400\n",
    "sub3 = sub3.drop(train[first & second].index, axis=0)\n",
    "\n",
    "first = train[\"date_block_num\"] == 23\n",
    "second = train['item_cnt_month'] > 800\n",
    "sub3 = sub3.drop(train[first & second].index, axis=0)\n",
    "\n",
    "first = train[\"date_block_num\"] == 24\n",
    "second = train['item_cnt_month'] > 500\n",
    "sub3 = sub3.drop(train[first & second].index, axis=0)\n",
    "\n",
    "first = train[\"date_block_num\"] == 27\n",
    "second = train['item_cnt_month'] > 600\n",
    "sub3 = sub3.drop(train[first & second].index, axis=0)\n",
    "\n",
    "first = train[\"date_block_num\"] == 28\n",
    "second = train['item_cnt_month'] > 600\n",
    "sub3 = sub3.drop(train[first & second].index, axis=0)\n",
    "\n",
    "first = train[\"date_block_num\"] == 33\n",
    "second = train['item_cnt_month'] > 300\n",
    "sub3 = sub3.drop(train[first & second].index, axis=0)\n",
    "\n",
    "\n",
    "figure, (ax1, ax2, ax3) = plt.subplots(nrows=3, ncols=1)\n",
    "figure.set_size_inches(18,15)\n",
    "\n",
    "sns.boxplot(data=sub1, x=\"year\", y=\"item_cnt_month\", ax=ax1)\n",
    "sns.boxplot(data=sub2, x=\"month\", y=\"item_cnt_month\", ax=ax2)\n",
    "sns.boxplot(data=sub3, x=\"date_block_num\", y=\"item_cnt_month\", ax=ax3)\n",
    "\n",
    "ax1.set_ylim(0, 2500)\n",
    "ax2.set_ylim(0, 2500)\n",
    "ax3.set_ylim(0, 2500)"
   ]
  },
  {
   "cell_type": "code",
   "execution_count": 52,
   "id": "fleet-capability",
   "metadata": {},
   "outputs": [],
   "source": [
    "y = train[\"item_cnt_month\"]"
   ]
  },
  {
   "cell_type": "code",
   "execution_count": 53,
   "id": "adjacent-disability",
   "metadata": {},
   "outputs": [
    {
     "name": "stderr",
     "output_type": "stream",
     "text": [
      "/home/aiffel-dj41/anaconda3/envs/aiffel/lib/python3.7/site-packages/seaborn/distributions.py:2557: FutureWarning: `distplot` is a deprecated function and will be removed in a future version. Please adapt your code to use either `displot` (a figure-level function with similar flexibility) or `histplot` (an axes-level function for histograms).\n",
      "  warnings.warn(msg, FutureWarning)\n"
     ]
    },
    {
     "data": {
      "text/plain": [
       "<AxesSubplot:xlabel='item_cnt_month', ylabel='Density'>"
      ]
     },
     "execution_count": 53,
     "metadata": {},
     "output_type": "execute_result"
    },
    {
     "data": {
      "image/png": "[encoded data removed]",
      "text/plain": [
       "<Figure size 1296x576 with 1 Axes>"
      ]
     },
     "metadata": {},
     "output_type": "display_data"
    }
   ],
   "source": [
    "fig = plt.figure()\n",
    "\n",
    "fig.set_size_inches(18, 8)\n",
    "\n",
    "sns.distplot(y)"
   ]
  },
  {
   "cell_type": "code",
   "execution_count": 54,
   "id": "dental-sight",
   "metadata": {},
   "outputs": [
    {
     "name": "stderr",
     "output_type": "stream",
     "text": [
      "/home/aiffel-dj41/anaconda3/envs/aiffel/lib/python3.7/site-packages/seaborn/distributions.py:2557: FutureWarning: `distplot` is a deprecated function and will be removed in a future version. Please adapt your code to use either `displot` (a figure-level function with similar flexibility) or `histplot` (an axes-level function for histograms).\n",
      "  warnings.warn(msg, FutureWarning)\n"
     ]
    },
    {
     "data": {
      "text/plain": [
       "<AxesSubplot:xlabel='item_cnt_month', ylabel='Density'>"
      ]
     },
     "execution_count": 54,
     "metadata": {},
     "output_type": "execute_result"
    },
    {
     "data": {
      "image/png": "[encoded data removed]",
      "text/plain": [
       "<Figure size 1296x576 with 1 Axes>"
      ]
     },
     "metadata": {},
     "output_type": "display_data"
    }
   ],
   "source": [
    "op = np.min(y.values)\n",
    "y = y - op + 1\n",
    "y = np.log1p(y)\n",
    "\n",
    "fig = plt.figure()\n",
    "\n",
    "fig.set_size_inches(18, 8)\n",
    "\n",
    "sns.distplot(y)"
   ]
  },
  {
   "cell_type": "markdown",
   "id": "disciplinary-powell",
   "metadata": {},
   "source": [
    "## 3. 하이퍼파라미터 튜닝"
   ]
  },
  {
   "cell_type": "markdown",
   "id": "satellite-reading",
   "metadata": {},
   "source": [
    "### 1) 모델 결정"
   ]
  },
  {
   "cell_type": "code",
   "execution_count": null,
   "id": "rental-kuwait",
   "metadata": {},
   "outputs": [],
   "source": []
  }
 ],
 "metadata": {
  "kernelspec": {
   "display_name": "aiffel",
   "language": "python",
   "name": "aiffel"
  },
  "language_info": {
   "codemirror_mode": {
    "name": "ipython",
    "version": 3
   },
   "file_extension": ".py",
   "mimetype": "text/x-python",
   "name": "python",
   "nbconvert_exporter": "python",
   "pygments_lexer": "ipython3",
   "version": "3.7.9"
  }
 },
 "nbformat": 4,
 "nbformat_minor": 5
}
